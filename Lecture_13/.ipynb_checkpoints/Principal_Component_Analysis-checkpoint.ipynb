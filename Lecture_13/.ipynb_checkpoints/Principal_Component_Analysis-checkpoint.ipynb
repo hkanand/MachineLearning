{
 "cells": [
  {
   "cell_type": "code",
   "execution_count": 2,
   "metadata": {
    "collapsed": true
   },
   "outputs": [],
   "source": [
    "import numpy as np\n",
    "import matplotlib.pyplot as plt\n",
    "%matplotlib inline\n",
    "import pandas as pd"
   ]
  },
  {
   "cell_type": "code",
   "execution_count": 3,
   "metadata": {
    "collapsed": false
   },
   "outputs": [
    {
     "name": "stdout",
     "output_type": "stream",
     "text": [
      "(800, 2)\n"
     ]
    },
    {
     "name": "stderr",
     "output_type": "stream",
     "text": [
      "/usr/local/lib/python2.7/dist-packages/ipykernel/__main__.py:5: RuntimeWarning: covariance is not positive-semidefinite.\n"
     ]
    }
   ],
   "source": [
    "##Generate Dataset and Center it\n",
    "mean_01 = np.array([0.0, 0.0])\n",
    "cov_01 = np.array([[1.2, 1.5], [1.5, 1.4]])\n",
    "\n",
    "data = np.random.multivariate_normal(mean_01, cov_01, 800)\n",
    "print data.shape"
   ]
  },
  {
   "cell_type": "code",
   "execution_count": 11,
   "metadata": {
    "collapsed": true
   },
   "outputs": [],
   "source": [
    "def pca(X, m=None):\n",
    "    if m==None:\n",
    "        m = X.shape[1] ## m==d\n",
    "    \n",
    "    ## Compute the Covariance Matrix\n",
    "    A = np.cov(X.T)\n",
    "    \n",
    "    ##EigenValues and EigenVectors -> Principal Components and Their Variability\n",
    "    eig_vals, eig_vecs = np.linalg.eig(A)\n",
    "    \n",
    "    ##Projection of points to the new coordinates\n",
    "    Z = X.dot(eig_vecs)\n",
    "    \n",
    "    return eig_vals, eig_vecs, Z"
   ]
  },
  {
   "cell_type": "code",
   "execution_count": 16,
   "metadata": {
    "collapsed": false
   },
   "outputs": [
    {
     "name": "stdout",
     "output_type": "stream",
     "text": [
      "(2,)\n",
      "(2, 2)\n",
      "(800, 2)\n",
      "[ 0.1958402   2.77275453]\n",
      "[[-0.71863001 -0.69539262]\n",
      " [ 0.69539262 -0.71863001]]\n",
      "---------\n",
      "[-0.71863001 -0.69539262]\n"
     ]
    }
   ],
   "source": [
    "eig_vals, eig_vecs, Z = pca(data)\n",
    "print eig_vals.shape\n",
    "print eig_vecs.shape\n",
    "print Z.shape\n",
    "\n",
    "print eig_vals\n",
    "print eig_vecs\n",
    "print \"---------\"\n",
    "print eig_vecs[0]"
   ]
  },
  {
   "cell_type": "code",
   "execution_count": 23,
   "metadata": {
    "collapsed": false
   },
   "outputs": [
    {
     "name": "stdout",
     "output_type": "stream",
     "text": [
      "[[0.19584020041871741, array([-0.71863001,  0.69539262])], [2.7727545257664921, array([-0.69539262, -0.71863001])]]\n",
      "---------\n",
      "2\n"
     ]
    }
   ],
   "source": [
    "info = []\n",
    "for ix in range(eig_vals.shape[0]):\n",
    "    dx = [eig_vals[ix], eig_vecs[:, ix]]\n",
    "    info.append(dx)\n",
    "print info\n",
    "print \"---------\"\n",
    "print len(info)"
   ]
  },
  {
   "cell_type": "code",
   "execution_count": 24,
   "metadata": {
    "collapsed": false
   },
   "outputs": [
    {
     "name": "stdout",
     "output_type": "stream",
     "text": [
      "[[2.7727545257664921, array([-0.69539262, -0.71863001])], [0.19584020041871741, array([-0.71863001,  0.69539262])]]\n"
     ]
    }
   ],
   "source": [
    "info = sorted(info, key=lambda z:z[0], reverse=True)\n",
    "print info"
   ]
  },
  {
   "cell_type": "code",
   "execution_count": 25,
   "metadata": {
    "collapsed": true
   },
   "outputs": [],
   "source": [
    "sorted_vals = []\n",
    "sorted_vecs = []\n",
    "for ix in range(len(info)):\n",
    "    sorted_vals.append(info[ix][0])\n",
    "    sorted_vecs.append(info[ix][1])\n",
    "sorted_vals = np.asarray(sorted_vals)\n",
    "sorted_vecs = np.asarray(sorted_vecs)"
   ]
  },
  {
   "cell_type": "code",
   "execution_count": 29,
   "metadata": {
    "collapsed": false
   },
   "outputs": [
    {
     "name": "stdout",
     "output_type": "stream",
     "text": [
      "[ 0.93402932  0.06597068]\n"
     ]
    }
   ],
   "source": [
    "explained_variances_ratio = sorted_vals/sum(sorted_vals)\n",
    "print explained_variances_ratio"
   ]
  },
  {
   "cell_type": "code",
   "execution_count": 32,
   "metadata": {
    "collapsed": false
   },
   "outputs": [],
   "source": [
    "# ON MNIST DATA"
   ]
  },
  {
   "cell_type": "code",
   "execution_count": 33,
   "metadata": {
    "collapsed": false
   },
   "outputs": [
    {
     "name": "stdout",
     "output_type": "stream",
     "text": [
      "(10000, 784)\n"
     ]
    }
   ],
   "source": [
    "data = pd.read_csv('../../mnist_train.csv').values[:10000, 1:]\n",
    "print data.shape"
   ]
  },
  {
   "cell_type": "code",
   "execution_count": 34,
   "metadata": {
    "collapsed": false
   },
   "outputs": [
    {
     "name": "stdout",
     "output_type": "stream",
     "text": [
      "(784,)\n",
      "(784, 784)\n",
      "(10000, 784)\n"
     ]
    }
   ],
   "source": [
    "eig_vals, eig_vecs, Z = pca(data)\n",
    "print eig_vals.shape\n",
    "print eig_vecs.shape\n",
    "print Z.shape"
   ]
  },
  {
   "cell_type": "code",
   "execution_count": 35,
   "metadata": {
    "collapsed": false
   },
   "outputs": [
    {
     "name": "stdout",
     "output_type": "stream",
     "text": [
      "784\n"
     ]
    }
   ],
   "source": [
    "info = []\n",
    "for ix in range(eig_vals.shape[0]):\n",
    "    dx = [eig_vals[ix], eig_vecs[:, ix]]\n",
    "    info.append(dx)\n",
    "#print info\n",
    "#print \"---------\"\n",
    "print len(info)"
   ]
  },
  {
   "cell_type": "code",
   "execution_count": 36,
   "metadata": {
    "collapsed": true
   },
   "outputs": [],
   "source": [
    "info = sorted(info, key=lambda z:z[0], reverse=True)"
   ]
  },
  {
   "cell_type": "code",
   "execution_count": 37,
   "metadata": {
    "collapsed": true
   },
   "outputs": [],
   "source": [
    "sorted_vals = []\n",
    "sorted_vecs = []\n",
    "for ix in range(len(info)):\n",
    "    sorted_vals.append(info[ix][0])\n",
    "    sorted_vecs.append(info[ix][1])\n",
    "sorted_vals = np.asarray(sorted_vals)\n",
    "sorted_vecs = np.asarray(sorted_vecs)"
   ]
  },
  {
   "cell_type": "code",
   "execution_count": 42,
   "metadata": {
    "collapsed": false
   },
   "outputs": [
    {
     "name": "stdout",
     "output_type": "stream",
     "text": [
      "(784,)\n",
      "(784, 784)\n"
     ]
    }
   ],
   "source": [
    "print sorted_vals.shape\n",
    "print sorted_vecs.shape\n",
    "\n",
    "explained_variances_ratio = sorted_vals/sum(sorted_vals)"
   ]
  },
  {
   "cell_type": "code",
   "execution_count": 41,
   "metadata": {
    "collapsed": false
   },
   "outputs": [
    {
     "name": "stderr",
     "output_type": "stream",
     "text": [
      "/usr/local/lib/python2.7/dist-packages/numpy/core/numeric.py:531: ComplexWarning: Casting complex values to real discards the imaginary part\n",
      "  return array(a, dtype, copy=False, order=order)\n"
     ]
    },
    {
     "data": {
      "image/png": "[encoded data removed]",
      "text/plain": [
       "<matplotlib.figure.Figure at 0x7f37cddad8d0>"
      ]
     },
     "metadata": {},
     "output_type": "display_data"
    }
   ],
   "source": [
    "plt.plot(np.cumsum(explained_variances_ratio)/explained_variances_ratio.sum())\n",
    "plt.show()"
   ]
  },
  {
   "cell_type": "code",
   "execution_count": null,
   "metadata": {
    "collapsed": true
   },
   "outputs": [],
   "source": []
  }
 ],
 "metadata": {
  "kernelspec": {
   "display_name": "Python 2",
   "language": "python",
   "name": "python2"
  },
  "language_info": {
   "codemirror_mode": {
    "name": "ipython",
    "version": 2
   },
   "file_extension": ".py",
   "mimetype": "text/x-python",
   "name": "python",
   "nbconvert_exporter": "python",
   "pygments_lexer": "ipython2",
   "version": "2.7.12"
  }
 },
 "nbformat": 4,
 "nbformat_minor": 2
}
