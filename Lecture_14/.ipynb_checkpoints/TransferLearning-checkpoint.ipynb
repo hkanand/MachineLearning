{
 "cells": [
  {
   "cell_type": "code",
   "execution_count": 2,
   "metadata": {
    "collapsed": false
   },
   "outputs": [
    {
     "name": "stderr",
     "output_type": "stream",
     "text": [
      "Using TensorFlow backend.\n"
     ]
    }
   ],
   "source": [
    "import numpy as np\n",
    "import matplotlib.pyplot as plt\n",
    "import pandas as pd\n",
    "import keras\n",
    "from keras.utils import np_utils\n",
    "from keras.layers import Dense, Activation,Flatten, Convolution2D, Dropout, MaxPooling2D\n",
    "from keras.models import Sequential\n",
    "\n",
    "import datetime"
   ]
  },
  {
   "cell_type": "code",
   "execution_count": 3,
   "metadata": {
    "collapsed": false
   },
   "outputs": [
    {
     "name": "stdout",
     "output_type": "stream",
     "text": [
      "(12000, 785)\n"
     ]
    }
   ],
   "source": [
    "ds = pd.read_csv('../../mnist_train.csv')\n",
    "data = ds.values[:12000]\n",
    "print data.shape"
   ]
  },
  {
   "cell_type": "code",
   "execution_count": 4,
   "metadata": {
    "collapsed": false
   },
   "outputs": [
    {
     "name": "stdout",
     "output_type": "stream",
     "text": [
      "(12000,)\n",
      "(12000,)\n",
      "[False  True]\n",
      "6145\n",
      "-------------\n",
      "(6145, 785)\n",
      "(5855, 785)\n"
     ]
    }
   ],
   "source": [
    "## model 1 -> (0-4) and model 2 -> (5-9)\n",
    "mask = data[:,0] < 5\n",
    "print data[:, 0].shape\n",
    "print mask.shape\n",
    "print np.unique(mask)\n",
    "print mask.sum()\n",
    "\n",
    "data_01 = []\n",
    "data_02 = []\n",
    "\n",
    "for ix in range(data.shape[0]):\n",
    "    if mask[ix] == True:\n",
    "        data_01.append(data[ix])\n",
    "    else:\n",
    "        data_02.append(data[ix])\n",
    "        \n",
    "data_01 = np.asarray(data_01)\n",
    "data_02 = np.asarray(data_02)\n",
    "print \"-------------\"\n",
    "print data_01.shape\n",
    "print data_02.shape"
   ]
  },
  {
   "cell_type": "code",
   "execution_count": 5,
   "metadata": {
    "collapsed": false
   },
   "outputs": [
    {
     "name": "stdout",
     "output_type": "stream",
     "text": [
      "(5223, 28, 28, 1) (922, 28, 28, 1)\n",
      "(5223, 5) (922, 5)\n"
     ]
    }
   ],
   "source": [
    "### data_01 for the first network\n",
    "split = int(0.85*data_01.shape[0])\n",
    "\n",
    "x_tr = data_01[:split, 1:]/255.0\n",
    "x_tes = data_01[split:, 1:]/255.0\n",
    "\n",
    "y_tr = np_utils.to_categorical(data_01[:split,0], nb_classes=5)\n",
    "y_tes = np_utils.to_categorical(data_01[split:, 0], nb_classes=5)\n",
    "\n",
    "x_tr = x_tr.reshape((-1, 28, 28, 1))\n",
    "x_tes = x_tes.reshape((-1, 28, 28, 1))\n",
    "\n",
    "print x_tr.shape, x_tes.shape\n",
    "print y_tr.shape, y_tes.shape"
   ]
  },
  {
   "cell_type": "code",
   "execution_count": 6,
   "metadata": {
    "collapsed": false
   },
   "outputs": [
    {
     "name": "stdout",
     "output_type": "stream",
     "text": [
      "____________________________________________________________________________________________________\n",
      "Layer (type)                     Output Shape          Param #     Connected to                     \n",
      "====================================================================================================\n",
      "convolution2d_1 (Convolution2D)  (None, 26, 26, 64)    640         convolution2d_input_1[0][0]      \n",
      "____________________________________________________________________________________________________\n",
      "convolution2d_2 (Convolution2D)  (None, 24, 24, 32)    18464       convolution2d_1[0][0]            \n",
      "____________________________________________________________________________________________________\n",
      "maxpooling2d_1 (MaxPooling2D)    (None, 12, 12, 32)    0           convolution2d_2[0][0]            \n",
      "____________________________________________________________________________________________________\n",
      "convolution2d_3 (Convolution2D)  (None, 10, 10, 16)    4624        maxpooling2d_1[0][0]             \n",
      "____________________________________________________________________________________________________\n",
      "convolution2d_4 (Convolution2D)  (None, 8, 8, 8)       1160        convolution2d_3[0][0]            \n",
      "____________________________________________________________________________________________________\n",
      "flatten_1 (Flatten)              (None, 512)           0           convolution2d_4[0][0]            \n",
      "____________________________________________________________________________________________________\n",
      "dense_1 (Dense)                  (None, 100)           51300       flatten_1[0][0]                  \n",
      "____________________________________________________________________________________________________\n",
      "dropout_1 (Dropout)              (None, 100)           0           dense_1[0][0]                    \n",
      "____________________________________________________________________________________________________\n",
      "activation_1 (Activation)        (None, 100)           0           dropout_1[0][0]                  \n",
      "____________________________________________________________________________________________________\n",
      "dense_2 (Dense)                  (None, 5)             505         activation_1[0][0]               \n",
      "____________________________________________________________________________________________________\n",
      "activation_2 (Activation)        (None, 5)             0           dense_2[0][0]                    \n",
      "====================================================================================================\n",
      "Total params: 76,693\n",
      "Trainable params: 76,693\n",
      "Non-trainable params: 0\n",
      "____________________________________________________________________________________________________\n"
     ]
    }
   ],
   "source": [
    "model = Sequential()\n",
    "\n",
    "model.add(Convolution2D(64, 3, 3, input_shape=(28,28,1), activation='relu'))\n",
    "model.add(Convolution2D(32, 3, 3, activation='relu'))\n",
    "\n",
    "model.add(MaxPooling2D(pool_size=(2, 2)))\n",
    "\n",
    "model.add(Convolution2D(16, 3, 3, activation='relu'))\n",
    "model.add(Convolution2D(8, 3, 3, activation='relu'))\n",
    "\n",
    "model.add(Flatten())\n",
    "\n",
    "model.add(Dense(100))\n",
    "model.add(Dropout(0.5))\n",
    "model.add(Activation('relu'))\n",
    "\n",
    "model.add(Dense(5))\n",
    "model.add(Activation('softmax'))\n",
    "\n",
    "model.summary()"
   ]
  },
  {
   "cell_type": "code",
   "execution_count": 7,
   "metadata": {
    "collapsed": true
   },
   "outputs": [],
   "source": [
    "model.compile(loss='categorical_crossentropy', optimizer='adam', metrics=['accuracy'])"
   ]
  },
  {
   "cell_type": "code",
   "execution_count": 8,
   "metadata": {
    "collapsed": false
   },
   "outputs": [
    {
     "name": "stdout",
     "output_type": "stream",
     "text": [
      "-1 day, 23:59:59.999935\n"
     ]
    }
   ],
   "source": [
    "start = datetime.datetime.now()\n",
    "ans = start - datetime.datetime.now()\n",
    "print ans"
   ]
  },
  {
   "cell_type": "code",
   "execution_count": 22,
   "metadata": {
    "collapsed": false
   },
   "outputs": [
    {
     "name": "stdout",
     "output_type": "stream",
     "text": [
      "Train on 5223 samples, validate on 922 samples\n",
      "Epoch 1/5\n",
      "20s - loss: 0.1315 - acc: 0.9629 - val_loss: 0.1267 - val_acc: 0.9620\n",
      "Epoch 2/5\n",
      "20s - loss: 0.0866 - acc: 0.9740 - val_loss: 0.1108 - val_acc: 0.9685\n",
      "Epoch 3/5\n",
      "21s - loss: 0.0627 - acc: 0.9797 - val_loss: 0.0826 - val_acc: 0.9740\n",
      "Epoch 4/5\n",
      "20s - loss: 0.0466 - acc: 0.9851 - val_loss: 0.0880 - val_acc: 0.9740\n",
      "Epoch 5/5\n",
      "20s - loss: 0.0469 - acc: 0.9849 - val_loss: 0.0632 - val_acc: 0.9816\n"
     ]
    }
   ],
   "source": [
    "hist = model.fit(x_tr, y_tr, batch_size=16, nb_epoch=5, verbose=2,validation_data=(x_tes, y_tes))"
   ]
  },
  {
   "cell_type": "code",
   "execution_count": 9,
   "metadata": {
    "collapsed": false
   },
   "outputs": [
    {
     "name": "stdout",
     "output_type": "stream",
     "text": [
      "____________________________________________________________________________________________________\n",
      "Layer (type)                     Output Shape          Param #     Connected to                     \n",
      "====================================================================================================\n",
      "convolution2d_1 (Convolution2D)  (None, 26, 26, 64)    640         convolution2d_input_1[0][0]      \n",
      "____________________________________________________________________________________________________\n",
      "convolution2d_2 (Convolution2D)  (None, 24, 24, 32)    18464       convolution2d_1[0][0]            \n",
      "                                                                   convolution2d_1[0][0]            \n",
      "____________________________________________________________________________________________________\n",
      "maxpooling2d_1 (MaxPooling2D)    (None, 12, 12, 32)    0           convolution2d_2[0][0]            \n",
      "                                                                   convolution2d_2[1][0]            \n",
      "____________________________________________________________________________________________________\n",
      "convolution2d_3 (Convolution2D)  (None, 10, 10, 16)    4624        maxpooling2d_1[0][0]             \n",
      "                                                                   maxpooling2d_1[1][0]             \n",
      "____________________________________________________________________________________________________\n",
      "convolution2d_4 (Convolution2D)  (None, 8, 8, 8)       1160        convolution2d_3[0][0]            \n",
      "                                                                   convolution2d_3[1][0]            \n",
      "____________________________________________________________________________________________________\n",
      "flatten_1 (Flatten)              (None, 512)           0           convolution2d_4[0][0]            \n",
      "                                                                   convolution2d_4[1][0]            \n",
      "____________________________________________________________________________________________________\n",
      "dense_1 (Dense)                  (None, 100)           51300       flatten_1[0][0]                  \n",
      "                                                                   flatten_1[1][0]                  \n",
      "____________________________________________________________________________________________________\n",
      "dense_3 (Dense)                  (None, 5)             505         dense_1[1][0]                    \n",
      "____________________________________________________________________________________________________\n",
      "activation_3 (Activation)        (None, 5)             0           dense_3[0][0]                    \n",
      "====================================================================================================\n",
      "Total params: 76,693\n",
      "Trainable params: 505\n",
      "Non-trainable params: 76,188\n",
      "____________________________________________________________________________________________________\n"
     ]
    }
   ],
   "source": [
    "trans_model = Sequential(model.layers[:-4])\n",
    "\n",
    "for ix in trans_model.layers:\n",
    "    ix.trainable = False\n",
    "\n",
    "trans_model.add(Dense(5))\n",
    "trans_model.add(Activation('softmax'))\n",
    "\n",
    "trans_model.summary()\n",
    "trans_model.compile(loss='categorical_crossentropy', optimizer='adam', metrics=['accuracy'])"
   ]
  },
  {
   "cell_type": "code",
   "execution_count": 11,
   "metadata": {
    "collapsed": false
   },
   "outputs": [
    {
     "name": "stdout",
     "output_type": "stream",
     "text": [
      "(4976, 28, 28, 1) (879, 28, 28, 1)\n",
      "(4976, 5) (879, 5)\n"
     ]
    }
   ],
   "source": [
    "split = int(0.85 * data_02.shape[0])\n",
    "\n",
    "X_tr = data_02[:split, 1:]/255.0\n",
    "X_te = data_02[split:, 1:]/255.0\n",
    "\n",
    "X_tr = X_tr.reshape((-1, 28, 28, 1))\n",
    "X_te = X_te.reshape((-1, 28, 28, 1))\n",
    "\n",
    "y_tr = np_utils.to_categorical(data_02[:split, 0]-5, nb_classes=5)\n",
    "y_te = np_utils.to_categorical(data_02[split:, 0]-5, nb_classes=5)\n",
    "\n",
    "print X_tr.shape, X_te.shape\n",
    "print y_tr.shape, y_te.shape"
   ]
  },
  {
   "cell_type": "code",
   "execution_count": null,
   "metadata": {
    "collapsed": true
   },
   "outputs": [],
   "source": [
    "start = datetime.datetime.now()\n",
    "hist = trans_model.fit(X_tr, y_tr,\n",
    "                epochs=10,\n",
    "                shuffle=True,\n",
    "                batch_size=128,\n",
    "                validation_data=(X_te, y_te))\n",
    "\n",
    "print datetime.datetime.now() - start"
   ]
  }
 ],
 "metadata": {
  "kernelspec": {
   "display_name": "Python 2",
   "language": "python",
   "name": "python2"
  },
  "language_info": {
   "codemirror_mode": {
    "name": "ipython",
    "version": 2
   },
   "file_extension": ".py",
   "mimetype": "text/x-python",
   "name": "python",
   "nbconvert_exporter": "python",
   "pygments_lexer": "ipython2",
   "version": "2.7.12"
  }
 },
 "nbformat": 4,
 "nbformat_minor": 2
}
