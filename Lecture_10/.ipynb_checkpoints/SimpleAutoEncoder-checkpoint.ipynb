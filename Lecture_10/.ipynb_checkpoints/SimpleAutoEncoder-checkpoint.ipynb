{
 "cells": [
  {
   "cell_type": "code",
   "execution_count": 3,
   "metadata": {
    "collapsed": false
   },
   "outputs": [],
   "source": [
    "import numpy as np\n",
    "from keras.layers import Input, Dense, Activation\n",
    "from keras.models import Model\n",
    "from keras.utils import np_utils\n",
    "import pandas as pd"
   ]
  },
  {
   "cell_type": "code",
   "execution_count": 13,
   "metadata": {
    "collapsed": false
   },
   "outputs": [
    {
     "name": "stdout",
     "output_type": "stream",
     "text": [
      "(4500, 784)\n"
     ]
    }
   ],
   "source": [
    "ds = pd.read_csv('../../mnist_train.csv')\n",
    "data = ds.values[100:4600,1:]/255.0\n",
    "print data.shape"
   ]
  },
  {
   "cell_type": "code",
   "execution_count": 38,
   "metadata": {
    "collapsed": false
   },
   "outputs": [
    {
     "name": "stdout",
     "output_type": "stream",
     "text": [
      "____________________________________________________________________________________________________\n",
      "Layer (type)                     Output Shape          Param #     Connected to                     \n",
      "====================================================================================================\n",
      "input_16 (InputLayer)            (None, 784)           0                                            \n",
      "____________________________________________________________________________________________________\n",
      "dense_17 (Dense)                 (None, 100)           78500       input_16[0][0]                   \n",
      "____________________________________________________________________________________________________\n",
      "activation_17 (Activation)       (None, 100)           0           dense_17[0][0]                   \n",
      "____________________________________________________________________________________________________\n",
      "dense_18 (Dense)                 (None, 784)           79184       activation_17[0][0]              \n",
      "____________________________________________________________________________________________________\n",
      "activation_18 (Activation)       (None, 784)           0           dense_18[0][0]                   \n",
      "====================================================================================================\n",
      "Total params: 157,684\n",
      "Trainable params: 157,684\n",
      "Non-trainable params: 0\n",
      "____________________________________________________________________________________________________\n"
     ]
    }
   ],
   "source": [
    "inp = Input(shape=(784,))\n",
    "h1 = Dense(100)\n",
    "a1 = Activation('sigmoid')\n",
    "y = Dense(784)\n",
    "ya = Activation('sigmoid')\n",
    "\n",
    "yout =  ya(y(a1(h1(inp))))\n",
    "model = Model(input=[inp], output=[yout])\n",
    "model.summary()"
   ]
  },
  {
   "cell_type": "code",
   "execution_count": 39,
   "metadata": {
    "collapsed": true
   },
   "outputs": [],
   "source": [
    "model.compile(optimizer='adam', loss='MSE', metrics=['accuracy'])"
   ]
  },
  {
   "cell_type": "code",
   "execution_count": 40,
   "metadata": {
    "collapsed": true
   },
   "outputs": [],
   "source": [
    "split = int(0.8*data.shape[0])"
   ]
  },
  {
   "cell_type": "code",
   "execution_count": 30,
   "metadata": {
    "collapsed": false
   },
   "outputs": [
    {
     "name": "stdout",
     "output_type": "stream",
     "text": [
      "Train on 3600 samples, validate on 900 samples\n",
      "Epoch 1/60\n",
      "0s - loss: 0.0835 - acc: 0.0075 - val_loss: 0.0671 - val_acc: 0.0089\n",
      "Epoch 2/60\n",
      "0s - loss: 0.0651 - acc: 0.0122 - val_loss: 0.0623 - val_acc: 0.0311\n",
      "Epoch 3/60\n",
      "0s - loss: 0.0590 - acc: 0.0153 - val_loss: 0.0556 - val_acc: 0.0322\n",
      "Epoch 4/60\n",
      "0s - loss: 0.0527 - acc: 0.0194 - val_loss: 0.0500 - val_acc: 0.0311\n",
      "Epoch 5/60\n",
      "0s - loss: 0.0475 - acc: 0.0186 - val_loss: 0.0457 - val_acc: 0.0267\n",
      "Epoch 6/60\n",
      "0s - loss: 0.0437 - acc: 0.0172 - val_loss: 0.0424 - val_acc: 0.0256\n",
      "Epoch 7/60\n",
      "0s - loss: 0.0406 - acc: 0.0158 - val_loss: 0.0395 - val_acc: 0.0189\n",
      "Epoch 8/60\n",
      "0s - loss: 0.0379 - acc: 0.0114 - val_loss: 0.0372 - val_acc: 0.0189\n",
      "Epoch 9/60\n",
      "0s - loss: 0.0356 - acc: 0.0122 - val_loss: 0.0351 - val_acc: 0.0156\n",
      "Epoch 10/60\n",
      "1s - loss: 0.0335 - acc: 0.0131 - val_loss: 0.0332 - val_acc: 0.0100\n",
      "Epoch 11/60\n",
      "1s - loss: 0.0316 - acc: 0.0125 - val_loss: 0.0314 - val_acc: 0.0122\n",
      "Epoch 12/60\n",
      "0s - loss: 0.0299 - acc: 0.0106 - val_loss: 0.0298 - val_acc: 0.0167\n",
      "Epoch 13/60\n",
      "0s - loss: 0.0283 - acc: 0.0097 - val_loss: 0.0283 - val_acc: 0.0067\n",
      "Epoch 14/60\n",
      "0s - loss: 0.0269 - acc: 0.0086 - val_loss: 0.0270 - val_acc: 0.0089\n",
      "Epoch 15/60\n",
      "0s - loss: 0.0256 - acc: 0.0089 - val_loss: 0.0259 - val_acc: 0.0089\n",
      "Epoch 16/60\n",
      "0s - loss: 0.0244 - acc: 0.0083 - val_loss: 0.0248 - val_acc: 0.0089\n",
      "Epoch 17/60\n",
      "1s - loss: 0.0234 - acc: 0.0106 - val_loss: 0.0239 - val_acc: 0.0089\n",
      "Epoch 18/60\n",
      "0s - loss: 0.0224 - acc: 0.0100 - val_loss: 0.0229 - val_acc: 0.0100\n",
      "Epoch 19/60\n",
      "0s - loss: 0.0214 - acc: 0.0114 - val_loss: 0.0221 - val_acc: 0.0111\n",
      "Epoch 20/60\n",
      "0s - loss: 0.0206 - acc: 0.0103 - val_loss: 0.0213 - val_acc: 0.0111\n",
      "Epoch 21/60\n",
      "0s - loss: 0.0198 - acc: 0.0131 - val_loss: 0.0205 - val_acc: 0.0078\n",
      "Epoch 22/60\n",
      "0s - loss: 0.0191 - acc: 0.0131 - val_loss: 0.0199 - val_acc: 0.0122\n",
      "Epoch 23/60\n",
      "0s - loss: 0.0184 - acc: 0.0119 - val_loss: 0.0193 - val_acc: 0.0111\n",
      "Epoch 24/60\n",
      "0s - loss: 0.0177 - acc: 0.0122 - val_loss: 0.0187 - val_acc: 0.0122\n",
      "Epoch 25/60\n",
      "1s - loss: 0.0171 - acc: 0.0111 - val_loss: 0.0182 - val_acc: 0.0089\n",
      "Epoch 26/60\n",
      "0s - loss: 0.0166 - acc: 0.0094 - val_loss: 0.0177 - val_acc: 0.0100\n",
      "Epoch 27/60\n",
      "1s - loss: 0.0160 - acc: 0.0108 - val_loss: 0.0172 - val_acc: 0.0111\n",
      "Epoch 28/60\n",
      "0s - loss: 0.0155 - acc: 0.0114 - val_loss: 0.0168 - val_acc: 0.0122\n",
      "Epoch 29/60\n",
      "0s - loss: 0.0151 - acc: 0.0100 - val_loss: 0.0163 - val_acc: 0.0167\n",
      "Epoch 30/60\n",
      "0s - loss: 0.0146 - acc: 0.0106 - val_loss: 0.0159 - val_acc: 0.0144\n",
      "Epoch 31/60\n",
      "0s - loss: 0.0142 - acc: 0.0106 - val_loss: 0.0155 - val_acc: 0.0133\n",
      "Epoch 32/60\n",
      "0s - loss: 0.0138 - acc: 0.0106 - val_loss: 0.0152 - val_acc: 0.0122\n",
      "Epoch 33/60\n",
      "1s - loss: 0.0134 - acc: 0.0106 - val_loss: 0.0149 - val_acc: 0.0100\n",
      "Epoch 34/60\n",
      "1s - loss: 0.0131 - acc: 0.0111 - val_loss: 0.0145 - val_acc: 0.0156\n",
      "Epoch 35/60\n",
      "1s - loss: 0.0127 - acc: 0.0100 - val_loss: 0.0142 - val_acc: 0.0144\n",
      "Epoch 36/60\n",
      "1s - loss: 0.0124 - acc: 0.0114 - val_loss: 0.0140 - val_acc: 0.0167\n",
      "Epoch 37/60\n",
      "1s - loss: 0.0121 - acc: 0.0103 - val_loss: 0.0137 - val_acc: 0.0144\n",
      "Epoch 38/60\n",
      "1s - loss: 0.0118 - acc: 0.0106 - val_loss: 0.0134 - val_acc: 0.0156\n",
      "Epoch 39/60\n",
      "0s - loss: 0.0116 - acc: 0.0106 - val_loss: 0.0132 - val_acc: 0.0144\n",
      "Epoch 40/60\n",
      "0s - loss: 0.0113 - acc: 0.0119 - val_loss: 0.0129 - val_acc: 0.0122\n",
      "Epoch 41/60\n",
      "0s - loss: 0.0111 - acc: 0.0106 - val_loss: 0.0127 - val_acc: 0.0200\n",
      "Epoch 42/60\n",
      "0s - loss: 0.0108 - acc: 0.0108 - val_loss: 0.0125 - val_acc: 0.0167\n",
      "Epoch 43/60\n",
      "0s - loss: 0.0106 - acc: 0.0100 - val_loss: 0.0123 - val_acc: 0.0133\n",
      "Epoch 44/60\n",
      "0s - loss: 0.0104 - acc: 0.0119 - val_loss: 0.0121 - val_acc: 0.0178\n",
      "Epoch 45/60\n",
      "0s - loss: 0.0102 - acc: 0.0097 - val_loss: 0.0119 - val_acc: 0.0133\n",
      "Epoch 46/60\n",
      "0s - loss: 0.0100 - acc: 0.0106 - val_loss: 0.0117 - val_acc: 0.0167\n",
      "Epoch 47/60\n",
      "0s - loss: 0.0098 - acc: 0.0119 - val_loss: 0.0115 - val_acc: 0.0178\n",
      "Epoch 48/60\n",
      "0s - loss: 0.0096 - acc: 0.0122 - val_loss: 0.0114 - val_acc: 0.0156\n",
      "Epoch 49/60\n",
      "0s - loss: 0.0094 - acc: 0.0114 - val_loss: 0.0112 - val_acc: 0.0144\n",
      "Epoch 50/60\n",
      "0s - loss: 0.0093 - acc: 0.0117 - val_loss: 0.0110 - val_acc: 0.0178\n",
      "Epoch 51/60\n",
      "0s - loss: 0.0091 - acc: 0.0136 - val_loss: 0.0109 - val_acc: 0.0167\n",
      "Epoch 52/60\n",
      "1s - loss: 0.0089 - acc: 0.0106 - val_loss: 0.0108 - val_acc: 0.0222\n",
      "Epoch 53/60\n",
      "0s - loss: 0.0088 - acc: 0.0114 - val_loss: 0.0106 - val_acc: 0.0156\n",
      "Epoch 54/60\n",
      "0s - loss: 0.0086 - acc: 0.0103 - val_loss: 0.0105 - val_acc: 0.0111\n",
      "Epoch 55/60\n",
      "0s - loss: 0.0085 - acc: 0.0128 - val_loss: 0.0104 - val_acc: 0.0156\n",
      "Epoch 56/60\n",
      "0s - loss: 0.0083 - acc: 0.0122 - val_loss: 0.0102 - val_acc: 0.0133\n",
      "Epoch 57/60\n",
      "1s - loss: 0.0082 - acc: 0.0122 - val_loss: 0.0101 - val_acc: 0.0111\n",
      "Epoch 58/60\n",
      "0s - loss: 0.0081 - acc: 0.0108 - val_loss: 0.0100 - val_acc: 0.0089\n",
      "Epoch 59/60\n",
      "0s - loss: 0.0079 - acc: 0.0125 - val_loss: 0.0099 - val_acc: 0.0111\n",
      "Epoch 60/60\n",
      "1s - loss: 0.0078 - acc: 0.0128 - val_loss: 0.0098 - val_acc: 0.0100\n"
     ]
    },
    {
     "data": {
      "text/plain": [
       "<keras.callbacks.History at 0x7f70a8da9810>"
      ]
     },
     "execution_count": 30,
     "metadata": {},
     "output_type": "execute_result"
    }
   ],
   "source": [
    "model.fit(data[:split], data[:split],nb_epoch=60, batch_size=30,verbose=2, validation_data=(data[split:], data[split:]))"
   ]
  },
  {
   "cell_type": "code",
   "execution_count": 32,
   "metadata": {
    "collapsed": false
   },
   "outputs": [],
   "source": [
    "ex = encoder.predict(data[100:200])"
   ]
  },
  {
   "cell_type": "code",
   "execution_count": null,
   "metadata": {
    "collapsed": true
   },
   "outputs": [],
   "source": [
    "##Encoder \n",
    "enc_out = a1(h1(inp))\n",
    "encoder = Model(input=[inp], output=[enc_out])\n",
    "\n",
    "##Decoder\n",
    "dec_inp = Input(shape=(100,))\n",
    "dec_out = ya(y(a1(dec_inp)))\n",
    "decoder = Model(input=[dec_inp], output=[dec_out])"
   ]
  },
  {
   "cell_type": "code",
   "execution_count": 33,
   "metadata": {
    "collapsed": true
   },
   "outputs": [],
   "source": [
    "dx = decoder.predict(ex)"
   ]
  },
  {
   "cell_type": "code",
   "execution_count": 34,
   "metadata": {
    "collapsed": true
   },
   "outputs": [],
   "source": [
    "import matplotlib.pyplot as plt\n",
    "%matplotlib inline"
   ]
  },
  {
   "cell_type": "code",
   "execution_count": 37,
   "metadata": {
    "collapsed": false
   },
   "outputs": [
    {
     "data": {
      "image/png": "[encoded data removed]",
      "text/plain": [
       "<matplotlib.figure.Figure at 0x7f70a8c18e90>"
      ]
     },
     "metadata": {},
     "output_type": "display_data"
    },
    {
     "data": {
      "image/png": "[encoded data removed]",
      "text/plain": [
       "<matplotlib.figure.Figure at 0x7f70a8fd0e50>"
      ]
     },
     "metadata": {},
     "output_type": "display_data"
    }
   ],
   "source": [
    "n = np.random.choice(100)\n",
    "\n",
    "plt.imshow(data[n+100].reshape((28, 28)), cmap='gray')\n",
    "plt.show()\n",
    "\n",
    "plt.imshow(dx[n].reshape((28, 28)), cmap='gray')\n",
    "plt.show()"
   ]
  },
  {
   "cell_type": "code",
   "execution_count": null,
   "metadata": {
    "collapsed": true
   },
   "outputs": [],
   "source": []
  }
 ],
 "metadata": {
  "kernelspec": {
   "display_name": "Python 2",
   "language": "python",
   "name": "python2"
  },
  "language_info": {
   "codemirror_mode": {
    "name": "ipython",
    "version": 2
   },
   "file_extension": ".py",
   "mimetype": "text/x-python",
   "name": "python",
   "nbconvert_exporter": "python",
   "pygments_lexer": "ipython2",
   "version": "2.7.12"
  }
 },
 "nbformat": 4,
 "nbformat_minor": 2
}
