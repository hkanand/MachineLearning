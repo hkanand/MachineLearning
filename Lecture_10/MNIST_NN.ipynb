{
 "cells": [
  {
   "cell_type": "code",
   "execution_count": 1,
   "metadata": {
    "collapsed": true
   },
   "outputs": [],
   "source": [
    "import numpy as np\n",
    "import pandas as pd\n",
    "from keras.utils import np_utils\n",
    "from keras.layers import Dense, Activation, Dropout\n",
    "from keras.models import Sequential"
   ]
  },
  {
   "cell_type": "code",
   "execution_count": 36,
   "metadata": {
    "collapsed": false
   },
   "outputs": [
    {
     "data": {
      "text/html": [
       "<div>\n",
       "<table border=\"1\" class=\"dataframe\">\n",
       "  <thead>\n",
       "    <tr style=\"text-align: right;\">\n",
       "      <th></th>\n",
       "      <th>5</th>\n",
       "      <th>0</th>\n",
       "      <th>0.1</th>\n",
       "      <th>0.2</th>\n",
       "      <th>0.3</th>\n",
       "      <th>0.4</th>\n",
       "      <th>0.5</th>\n",
       "      <th>0.6</th>\n",
       "      <th>0.7</th>\n",
       "      <th>0.8</th>\n",
       "      <th>...</th>\n",
       "      <th>0.608</th>\n",
       "      <th>0.609</th>\n",
       "      <th>0.610</th>\n",
       "      <th>0.611</th>\n",
       "      <th>0.612</th>\n",
       "      <th>0.613</th>\n",
       "      <th>0.614</th>\n",
       "      <th>0.615</th>\n",
       "      <th>0.616</th>\n",
       "      <th>0.617</th>\n",
       "    </tr>\n",
       "  </thead>\n",
       "  <tbody>\n",
       "    <tr>\n",
       "      <th>17591</th>\n",
       "      <td>4</td>\n",
       "      <td>0</td>\n",
       "      <td>0</td>\n",
       "      <td>0</td>\n",
       "      <td>0</td>\n",
       "      <td>0</td>\n",
       "      <td>0</td>\n",
       "      <td>0</td>\n",
       "      <td>0</td>\n",
       "      <td>0</td>\n",
       "      <td>...</td>\n",
       "      <td>0.0</td>\n",
       "      <td>0.0</td>\n",
       "      <td>0.0</td>\n",
       "      <td>0.0</td>\n",
       "      <td>0.0</td>\n",
       "      <td>0.0</td>\n",
       "      <td>0.0</td>\n",
       "      <td>0.0</td>\n",
       "      <td>0.0</td>\n",
       "      <td>0.0</td>\n",
       "    </tr>\n",
       "    <tr>\n",
       "      <th>17592</th>\n",
       "      <td>3</td>\n",
       "      <td>0</td>\n",
       "      <td>0</td>\n",
       "      <td>0</td>\n",
       "      <td>0</td>\n",
       "      <td>0</td>\n",
       "      <td>0</td>\n",
       "      <td>0</td>\n",
       "      <td>0</td>\n",
       "      <td>0</td>\n",
       "      <td>...</td>\n",
       "      <td>0.0</td>\n",
       "      <td>0.0</td>\n",
       "      <td>0.0</td>\n",
       "      <td>0.0</td>\n",
       "      <td>0.0</td>\n",
       "      <td>0.0</td>\n",
       "      <td>0.0</td>\n",
       "      <td>0.0</td>\n",
       "      <td>0.0</td>\n",
       "      <td>0.0</td>\n",
       "    </tr>\n",
       "    <tr>\n",
       "      <th>17593</th>\n",
       "      <td>8</td>\n",
       "      <td>0</td>\n",
       "      <td>0</td>\n",
       "      <td>0</td>\n",
       "      <td>0</td>\n",
       "      <td>0</td>\n",
       "      <td>0</td>\n",
       "      <td>0</td>\n",
       "      <td>0</td>\n",
       "      <td>0</td>\n",
       "      <td>...</td>\n",
       "      <td>0.0</td>\n",
       "      <td>0.0</td>\n",
       "      <td>0.0</td>\n",
       "      <td>0.0</td>\n",
       "      <td>0.0</td>\n",
       "      <td>0.0</td>\n",
       "      <td>0.0</td>\n",
       "      <td>0.0</td>\n",
       "      <td>0.0</td>\n",
       "      <td>0.0</td>\n",
       "    </tr>\n",
       "    <tr>\n",
       "      <th>17594</th>\n",
       "      <td>2</td>\n",
       "      <td>0</td>\n",
       "      <td>0</td>\n",
       "      <td>0</td>\n",
       "      <td>0</td>\n",
       "      <td>0</td>\n",
       "      <td>0</td>\n",
       "      <td>0</td>\n",
       "      <td>0</td>\n",
       "      <td>0</td>\n",
       "      <td>...</td>\n",
       "      <td>0.0</td>\n",
       "      <td>0.0</td>\n",
       "      <td>0.0</td>\n",
       "      <td>0.0</td>\n",
       "      <td>0.0</td>\n",
       "      <td>0.0</td>\n",
       "      <td>0.0</td>\n",
       "      <td>0.0</td>\n",
       "      <td>0.0</td>\n",
       "      <td>0.0</td>\n",
       "    </tr>\n",
       "    <tr>\n",
       "      <th>17595</th>\n",
       "      <td>8</td>\n",
       "      <td>0</td>\n",
       "      <td>0</td>\n",
       "      <td>0</td>\n",
       "      <td>0</td>\n",
       "      <td>0</td>\n",
       "      <td>0</td>\n",
       "      <td>0</td>\n",
       "      <td>0</td>\n",
       "      <td>0</td>\n",
       "      <td>...</td>\n",
       "      <td>NaN</td>\n",
       "      <td>NaN</td>\n",
       "      <td>NaN</td>\n",
       "      <td>NaN</td>\n",
       "      <td>NaN</td>\n",
       "      <td>NaN</td>\n",
       "      <td>NaN</td>\n",
       "      <td>NaN</td>\n",
       "      <td>NaN</td>\n",
       "      <td>NaN</td>\n",
       "    </tr>\n",
       "  </tbody>\n",
       "</table>\n",
       "<p>5 rows × 785 columns</p>\n",
       "</div>"
      ],
      "text/plain": [
       "       5  0  0.1  0.2  0.3  0.4  0.5  0.6  0.7  0.8  ...    0.608  0.609  \\\n",
       "17591  4  0    0    0    0    0    0    0    0    0  ...      0.0    0.0   \n",
       "17592  3  0    0    0    0    0    0    0    0    0  ...      0.0    0.0   \n",
       "17593  8  0    0    0    0    0    0    0    0    0  ...      0.0    0.0   \n",
       "17594  2  0    0    0    0    0    0    0    0    0  ...      0.0    0.0   \n",
       "17595  8  0    0    0    0    0    0    0    0    0  ...      NaN    NaN   \n",
       "\n",
       "       0.610  0.611  0.612  0.613  0.614  0.615  0.616  0.617  \n",
       "17591    0.0    0.0    0.0    0.0    0.0    0.0    0.0    0.0  \n",
       "17592    0.0    0.0    0.0    0.0    0.0    0.0    0.0    0.0  \n",
       "17593    0.0    0.0    0.0    0.0    0.0    0.0    0.0    0.0  \n",
       "17594    0.0    0.0    0.0    0.0    0.0    0.0    0.0    0.0  \n",
       "17595    NaN    NaN    NaN    NaN    NaN    NaN    NaN    NaN  \n",
       "\n",
       "[5 rows x 785 columns]"
      ]
     },
     "execution_count": 36,
     "metadata": {},
     "output_type": "execute_result"
    }
   ],
   "source": [
    "ds = pd.read_csv('../../mnist_train.csv')\n",
    "ds.tail()"
   ]
  },
  {
   "cell_type": "code",
   "execution_count": 37,
   "metadata": {
    "collapsed": false
   },
   "outputs": [
    {
     "name": "stdout",
     "output_type": "stream",
     "text": [
      "(11000, 785)\n"
     ]
    }
   ],
   "source": [
    "data = ds.values[6000:17000]\n",
    "print data.shape"
   ]
  },
  {
   "cell_type": "code",
   "execution_count": 38,
   "metadata": {
    "collapsed": false
   },
   "outputs": [
    {
     "name": "stdout",
     "output_type": "stream",
     "text": [
      "(11000, 784)\n",
      "(11000,)\n",
      "[ 0.  1.  2.  3.  4.  5.  6.  7.  8.  9.]\n"
     ]
    }
   ],
   "source": [
    "#X = data[:,1:]\n",
    "X = data[:,1:]/255.0\n",
    "y = data[:, 0]\n",
    "print X.shape\n",
    "print y.shape\n",
    "\n",
    "print np.unique(y)\n",
    "nb_classes = len(np.unique(y))"
   ]
  },
  {
   "cell_type": "code",
   "execution_count": 39,
   "metadata": {
    "collapsed": false
   },
   "outputs": [
    {
     "name": "stdout",
     "output_type": "stream",
     "text": [
      "0.0 [ 1.  0.  0.  0.  0.  0.  0.  0.  0.  0.]\n",
      "1.0 [ 0.  1.  0.  0.  0.  0.  0.  0.  0.  0.]\n",
      "1.0 [ 0.  1.  0.  0.  0.  0.  0.  0.  0.  0.]\n",
      "5.0 [ 0.  0.  0.  0.  0.  1.  0.  0.  0.  0.]\n",
      "2.0 [ 0.  0.  1.  0.  0.  0.  0.  0.  0.  0.]\n",
      "8.0 [ 0.  0.  0.  0.  0.  0.  0.  0.  1.  0.]\n",
      "3.0 [ 0.  0.  0.  1.  0.  0.  0.  0.  0.  0.]\n",
      "0.0 [ 1.  0.  0.  0.  0.  0.  0.  0.  0.  0.]\n",
      "4.0 [ 0.  0.  0.  0.  1.  0.  0.  0.  0.  0.]\n",
      "9.0 [ 0.  0.  0.  0.  0.  0.  0.  0.  0.  1.]\n",
      "(11000, 10)\n"
     ]
    }
   ],
   "source": [
    "Y = np_utils.to_categorical(y)\n",
    "for ix in range(10):\n",
    "    print y[ix], Y[ix]\n",
    "print Y.shape"
   ]
  },
  {
   "cell_type": "code",
   "execution_count": 40,
   "metadata": {
    "collapsed": false
   },
   "outputs": [
    {
     "name": "stdout",
     "output_type": "stream",
     "text": [
      "(8800, 784) (8800, 10)\n"
     ]
    }
   ],
   "source": [
    "split = int(0.8*data.shape[0])\n",
    "X_train = X[:split]\n",
    "X_test = X[split:]\n",
    "\n",
    "y_train = Y[:split]\n",
    "y_test = Y[split:]\n",
    "\n",
    "print X_train.shape, y_train.shape"
   ]
  },
  {
   "cell_type": "code",
   "execution_count": 41,
   "metadata": {
    "collapsed": false
   },
   "outputs": [
    {
     "name": "stdout",
     "output_type": "stream",
     "text": [
      "____________________________________________________________________________________________________\n",
      "Layer (type)                     Output Shape          Param #     Connected to                     \n",
      "====================================================================================================\n",
      "dense_9 (Dense)                  (None, 512)           401920      dense_input_5[0][0]              \n",
      "____________________________________________________________________________________________________\n",
      "activation_9 (Activation)        (None, 512)           0           dense_9[0][0]                    \n",
      "____________________________________________________________________________________________________\n",
      "dropout_5 (Dropout)              (None, 512)           0           activation_9[0][0]               \n",
      "____________________________________________________________________________________________________\n",
      "dense_10 (Dense)                 (None, 10)            5130        dropout_5[0][0]                  \n",
      "____________________________________________________________________________________________________\n",
      "activation_10 (Activation)       (None, 10)            0           dense_10[0][0]                   \n",
      "====================================================================================================\n",
      "Total params: 407,050\n",
      "Trainable params: 407,050\n",
      "Non-trainable params: 0\n",
      "____________________________________________________________________________________________________\n"
     ]
    }
   ],
   "source": [
    "model = Sequential()\n",
    "\n",
    "model.add(Dense(512, input_shape=(784,)))\n",
    "model.add(Activation('relu'))\n",
    "model.add(Dropout(0.5))\n",
    "\n",
    "model.add(Dense(nb_classes))\n",
    "model.add(Activation('softmax'))\n",
    "\n",
    "model.summary()"
   ]
  },
  {
   "cell_type": "code",
   "execution_count": 42,
   "metadata": {
    "collapsed": true
   },
   "outputs": [],
   "source": [
    "model.compile(loss='categorical_crossentropy', optimizer='adam', metrics=['accuracy'])"
   ]
  },
  {
   "cell_type": "code",
   "execution_count": 43,
   "metadata": {
    "collapsed": false
   },
   "outputs": [
    {
     "name": "stdout",
     "output_type": "stream",
     "text": [
      "Train on 8800 samples, validate on 2200 samples\n",
      "Epoch 1/20\n",
      "2s - loss: 0.6083 - acc: 0.8195 - val_loss: 0.3175 - val_acc: 0.9123\n",
      "Epoch 2/20\n",
      "2s - loss: 0.2955 - acc: 0.9149 - val_loss: 0.2407 - val_acc: 0.9255\n",
      "Epoch 3/20\n",
      "2s - loss: 0.2255 - acc: 0.9319 - val_loss: 0.2006 - val_acc: 0.9386\n",
      "Epoch 4/20\n",
      "2s - loss: 0.1763 - acc: 0.9464 - val_loss: 0.1800 - val_acc: 0.9468\n",
      "Epoch 5/20\n",
      "2s - loss: 0.1428 - acc: 0.9561 - val_loss: 0.1830 - val_acc: 0.9441\n",
      "Epoch 6/20\n",
      "2s - loss: 0.1196 - acc: 0.9668 - val_loss: 0.1556 - val_acc: 0.9536\n",
      "Epoch 7/20\n",
      "2s - loss: 0.1021 - acc: 0.9702 - val_loss: 0.1618 - val_acc: 0.9532\n",
      "Epoch 8/20\n",
      "2s - loss: 0.0892 - acc: 0.9732 - val_loss: 0.1400 - val_acc: 0.9586\n",
      "Epoch 9/20\n",
      "2s - loss: 0.0683 - acc: 0.9794 - val_loss: 0.1359 - val_acc: 0.9614\n",
      "Epoch 10/20\n",
      "2s - loss: 0.0655 - acc: 0.9802 - val_loss: 0.1304 - val_acc: 0.9627\n",
      "Epoch 11/20\n",
      "2s - loss: 0.0542 - acc: 0.9850 - val_loss: 0.1288 - val_acc: 0.9600\n",
      "Epoch 12/20\n",
      "2s - loss: 0.0470 - acc: 0.9867 - val_loss: 0.1433 - val_acc: 0.9586\n",
      "Epoch 13/20\n",
      "2s - loss: 0.0443 - acc: 0.9886 - val_loss: 0.1433 - val_acc: 0.9545\n",
      "Epoch 14/20\n",
      "2s - loss: 0.0407 - acc: 0.9875 - val_loss: 0.1368 - val_acc: 0.9591\n",
      "Epoch 15/20\n",
      "3s - loss: 0.0344 - acc: 0.9903 - val_loss: 0.1294 - val_acc: 0.9618\n",
      "Epoch 16/20\n",
      "2s - loss: 0.0321 - acc: 0.9920 - val_loss: 0.1364 - val_acc: 0.9632\n",
      "Epoch 17/20\n",
      "2s - loss: 0.0321 - acc: 0.9903 - val_loss: 0.1326 - val_acc: 0.9623\n",
      "Epoch 18/20\n",
      "2s - loss: 0.0269 - acc: 0.9935 - val_loss: 0.1338 - val_acc: 0.9632\n",
      "Epoch 19/20\n",
      "2s - loss: 0.0268 - acc: 0.9928 - val_loss: 0.1355 - val_acc: 0.9623\n",
      "Epoch 20/20\n",
      "2s - loss: 0.0261 - acc: 0.9915 - val_loss: 0.1488 - val_acc: 0.9627\n"
     ]
    },
    {
     "data": {
      "text/plain": [
       "<keras.callbacks.History at 0x7f5b1c11a690>"
      ]
     },
     "execution_count": 43,
     "metadata": {},
     "output_type": "execute_result"
    }
   ],
   "source": [
    "model.fit(X_train, y_train, nb_epoch=20, batch_size=50, validation_data=(X_test, y_test), verbose=2)"
   ]
  },
  {
   "cell_type": "code",
   "execution_count": 35,
   "metadata": {
    "collapsed": false
   },
   "outputs": [
    {
     "name": "stdout",
     "output_type": "stream",
     "text": [
      "<keras.layers.core.Dense object at 0x7f5b1c7622d0>\n",
      "(784, 512)\n",
      "(512,)\n",
      "dense_7\n",
      "-----------------\n",
      "<keras.layers.core.Activation object at 0x7f5b1c762350>\n",
      "activation_7\n",
      "-----------------\n",
      "<keras.layers.core.Dropout object at 0x7f5b1c76d750>\n",
      "dropout_4\n",
      "-----------------\n",
      "<keras.layers.core.Dense object at 0x7f5b1c76d410>\n",
      "(512, 10)\n",
      "(10,)\n",
      "dense_8\n",
      "-----------------\n",
      "<keras.layers.core.Activation object at 0x7f5b1c76dbd0>\n",
      "activation_8\n",
      "-----------------\n"
     ]
    }
   ],
   "source": [
    "for layer in model.layers:\n",
    "    print layer\n",
    "    if len(layer.get_weights())>0:\n",
    "        print layer.get_weights()[0].shape\n",
    "        print layer.get_weights()[1].shape\n",
    "    print layer.get_config()['name']\n",
    "    print \"-----------------\""
   ]
  },
  {
   "cell_type": "code",
   "execution_count": null,
   "metadata": {
    "collapsed": true
   },
   "outputs": [],
   "source": []
  },
  {
   "cell_type": "code",
   "execution_count": null,
   "metadata": {
    "collapsed": true
   },
   "outputs": [],
   "source": []
  },
  {
   "cell_type": "code",
   "execution_count": null,
   "metadata": {
    "collapsed": true
   },
   "outputs": [],
   "source": []
  }
 ],
 "metadata": {
  "kernelspec": {
   "display_name": "Python 2",
   "language": "python",
   "name": "python2"
  },
  "language_info": {
   "codemirror_mode": {
    "name": "ipython",
    "version": 2
   },
   "file_extension": ".py",
   "mimetype": "text/x-python",
   "name": "python",
   "nbconvert_exporter": "python",
   "pygments_lexer": "ipython2",
   "version": "2.7.12"
  }
 },
 "nbformat": 4,
 "nbformat_minor": 2
}
