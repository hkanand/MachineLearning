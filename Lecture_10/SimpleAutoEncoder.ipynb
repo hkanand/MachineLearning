import numpy as np
from keras.layers import Input, Dense, Activation
from keras.models import Model
from keras.utils import np_utils
import pandas as pd


ds = pd.read_csv('../../mnist_train.csv')
ds.tail()