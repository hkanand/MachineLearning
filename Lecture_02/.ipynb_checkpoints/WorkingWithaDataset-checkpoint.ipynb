{
 "cells": [
  {
   "cell_type": "code",
   "execution_count": 2,
   "metadata": {
    "collapsed": true
   },
   "outputs": [],
   "source": [
    "import numpy as np\n",
    "import matplotlib.pyplot as plt\n",
    "%matplotlib inline\n",
    "import pandas as pd"
   ]
  },
  {
   "cell_type": "code",
   "execution_count": 10,
   "metadata": {
    "collapsed": false
   },
   "outputs": [
    {
     "name": "stdout",
     "output_type": "stream",
     "text": [
      "<class 'pandas.core.frame.DataFrame'>\n",
      "28\n",
      "<type 'numpy.ndarray'>\n",
      "(5043, 28)\n"
     ]
    },
    {
     "data": {
      "text/html": [
       "<div>\n",
       "<table border=\"1\" class=\"dataframe\">\n",
       "  <thead>\n",
       "    <tr style=\"text-align: right;\">\n",
       "      <th></th>\n",
       "      <th>color</th>\n",
       "      <th>director_name</th>\n",
       "      <th>num_critic_for_reviews</th>\n",
       "      <th>duration</th>\n",
       "      <th>director_facebook_likes</th>\n",
       "      <th>actor_3_facebook_likes</th>\n",
       "      <th>actor_2_name</th>\n",
       "      <th>actor_1_facebook_likes</th>\n",
       "      <th>gross</th>\n",
       "      <th>genres</th>\n",
       "      <th>...</th>\n",
       "      <th>num_user_for_reviews</th>\n",
       "      <th>language</th>\n",
       "      <th>country</th>\n",
       "      <th>content_rating</th>\n",
       "      <th>budget</th>\n",
       "      <th>title_year</th>\n",
       "      <th>actor_2_facebook_likes</th>\n",
       "      <th>imdb_score</th>\n",
       "      <th>aspect_ratio</th>\n",
       "      <th>movie_facebook_likes</th>\n",
       "    </tr>\n",
       "  </thead>\n",
       "  <tbody>\n",
       "    <tr>\n",
       "      <th>5040</th>\n",
       "      <td>Color</td>\n",
       "      <td>Benjamin Roberds</td>\n",
       "      <td>13.0</td>\n",
       "      <td>76.0</td>\n",
       "      <td>0.0</td>\n",
       "      <td>0.0</td>\n",
       "      <td>Maxwell Moody</td>\n",
       "      <td>0.0</td>\n",
       "      <td>NaN</td>\n",
       "      <td>Drama|Horror|Thriller</td>\n",
       "      <td>...</td>\n",
       "      <td>3.0</td>\n",
       "      <td>English</td>\n",
       "      <td>USA</td>\n",
       "      <td>NaN</td>\n",
       "      <td>1400.0</td>\n",
       "      <td>2013.0</td>\n",
       "      <td>0.0</td>\n",
       "      <td>6.3</td>\n",
       "      <td>NaN</td>\n",
       "      <td>16</td>\n",
       "    </tr>\n",
       "    <tr>\n",
       "      <th>5041</th>\n",
       "      <td>Color</td>\n",
       "      <td>Daniel Hsia</td>\n",
       "      <td>14.0</td>\n",
       "      <td>100.0</td>\n",
       "      <td>0.0</td>\n",
       "      <td>489.0</td>\n",
       "      <td>Daniel Henney</td>\n",
       "      <td>946.0</td>\n",
       "      <td>10443.0</td>\n",
       "      <td>Comedy|Drama|Romance</td>\n",
       "      <td>...</td>\n",
       "      <td>9.0</td>\n",
       "      <td>English</td>\n",
       "      <td>USA</td>\n",
       "      <td>PG-13</td>\n",
       "      <td>NaN</td>\n",
       "      <td>2012.0</td>\n",
       "      <td>719.0</td>\n",
       "      <td>6.3</td>\n",
       "      <td>2.35</td>\n",
       "      <td>660</td>\n",
       "    </tr>\n",
       "    <tr>\n",
       "      <th>5042</th>\n",
       "      <td>Color</td>\n",
       "      <td>Jon Gunn</td>\n",
       "      <td>43.0</td>\n",
       "      <td>90.0</td>\n",
       "      <td>16.0</td>\n",
       "      <td>16.0</td>\n",
       "      <td>Brian Herzlinger</td>\n",
       "      <td>86.0</td>\n",
       "      <td>85222.0</td>\n",
       "      <td>Documentary</td>\n",
       "      <td>...</td>\n",
       "      <td>84.0</td>\n",
       "      <td>English</td>\n",
       "      <td>USA</td>\n",
       "      <td>PG</td>\n",
       "      <td>1100.0</td>\n",
       "      <td>2004.0</td>\n",
       "      <td>23.0</td>\n",
       "      <td>6.6</td>\n",
       "      <td>1.85</td>\n",
       "      <td>456</td>\n",
       "    </tr>\n",
       "  </tbody>\n",
       "</table>\n",
       "<p>3 rows × 28 columns</p>\n",
       "</div>"
      ],
      "text/plain": [
       "      color     director_name  num_critic_for_reviews  duration  \\\n",
       "5040  Color  Benjamin Roberds                    13.0      76.0   \n",
       "5041  Color       Daniel Hsia                    14.0     100.0   \n",
       "5042  Color          Jon Gunn                    43.0      90.0   \n",
       "\n",
       "      director_facebook_likes  actor_3_facebook_likes      actor_2_name  \\\n",
       "5040                      0.0                     0.0     Maxwell Moody   \n",
       "5041                      0.0                   489.0     Daniel Henney   \n",
       "5042                     16.0                    16.0  Brian Herzlinger   \n",
       "\n",
       "      actor_1_facebook_likes    gross                 genres  \\\n",
       "5040                     0.0      NaN  Drama|Horror|Thriller   \n",
       "5041                   946.0  10443.0   Comedy|Drama|Romance   \n",
       "5042                    86.0  85222.0            Documentary   \n",
       "\n",
       "             ...          num_user_for_reviews language  country  \\\n",
       "5040         ...                           3.0  English      USA   \n",
       "5041         ...                           9.0  English      USA   \n",
       "5042         ...                          84.0  English      USA   \n",
       "\n",
       "      content_rating  budget  title_year actor_2_facebook_likes imdb_score  \\\n",
       "5040             NaN  1400.0      2013.0                    0.0        6.3   \n",
       "5041           PG-13     NaN      2012.0                  719.0        6.3   \n",
       "5042              PG  1100.0      2004.0                   23.0        6.6   \n",
       "\n",
       "      aspect_ratio movie_facebook_likes  \n",
       "5040           NaN                   16  \n",
       "5041          2.35                  660  \n",
       "5042          1.85                  456  \n",
       "\n",
       "[3 rows x 28 columns]"
      ]
     },
     "execution_count": 10,
     "metadata": {},
     "output_type": "execute_result"
    }
   ],
   "source": [
    "ds = pd.read_csv('./movie_metadata.csv')\n",
    "print type(ds)\n",
    "print len(ds.columns)\n",
    "\n",
    "data = ds.values\n",
    "print type(data)\n",
    "print data.shape\n",
    "#ds.head(n=5)\n",
    "ds.tail(n=3)"
   ]
  },
  {
   "cell_type": "code",
   "execution_count": 16,
   "metadata": {
    "collapsed": false
   },
   "outputs": [
    {
     "name": "stdout",
     "output_type": "stream",
     "text": [
      "<class 'pandas.indexes.base.Index'>\n"
     ]
    }
   ],
   "source": [
    "#for ix in ds.columns:\n",
    "   #print ix\n",
    "print type(ds.columns)"
   ]
  },
  {
   "cell_type": "code",
   "execution_count": 15,
   "metadata": {
    "collapsed": false
   },
   "outputs": [
    {
     "name": "stdout",
     "output_type": "stream",
     "text": [
      "5043\n",
      "<class 'pandas.core.series.Series'>\n"
     ]
    }
   ],
   "source": [
    "titles = ds.get('movie_title')\n",
    "print len(titles)\n",
    "print type(titles)"
   ]
  },
  {
   "cell_type": "code",
   "execution_count": 19,
   "metadata": {
    "collapsed": false
   },
   "outputs": [
    {
     "name": "stdout",
     "output_type": "stream",
     "text": [
      "Avatar \n",
      "Pirates of the Caribbean: At World's End \n",
      "Spectre \n",
      "The Dark Knight Rises \n",
      "Star Wars: Episode VII - The Force Awakens             \n",
      "John Carter \n",
      "Spider-Man 3 \n",
      "Tangled \n",
      "Avengers: Age of Ultron \n",
      "Harry Potter and the Half-Blood Prince \n",
      "Batman v Superman: Dawn of Justice \n"
     ]
    }
   ],
   "source": [
    "count = 0\n",
    "for ix in titles:\n",
    "    if count<=10:\n",
    "        print ix\n",
    "    count+=1"
   ]
  },
  {
   "cell_type": "code",
   "execution_count": 25,
   "metadata": {
    "collapsed": false
   },
   "outputs": [
    {
     "name": "stdout",
     "output_type": "stream",
     "text": [
      "88\n",
      "3\n",
      "17.5542335911\n"
     ]
    }
   ],
   "source": [
    "len_titles = []\n",
    "for ix in titles:\n",
    "    len_titles.append(len(ix))\n",
    "#print len(len_titles)\n",
    "len_titles = np.array(len_titles)\n",
    "print len_titles.max()\n",
    "print len_titles.min()\n",
    "print len_titles.mean()"
   ]
  },
  {
   "cell_type": "code",
   "execution_count": 26,
   "metadata": {
    "collapsed": false
   },
   "outputs": [
    {
     "name": "stdout",
     "output_type": "stream",
     "text": [
      "{3: 5, 4: 8, 5: 35, 6: 91, 7: 137, 8: 138, 9: 226, 10: 266, 11: 297, 12: 328, 13: 328, 14: 307, 15: 275, 16: 283, 17: 264, 18: 238, 19: 219, 20: 214, 21: 177, 22: 137, 23: 139, 24: 109, 25: 85, 26: 82, 27: 73, 28: 70, 29: 51, 30: 65, 31: 36, 32: 47, 33: 43, 34: 21, 35: 31, 36: 30, 37: 20, 38: 19, 39: 24, 40: 13, 41: 14, 42: 17, 43: 13, 44: 9, 45: 9, 46: 4, 47: 7, 48: 4, 49: 4, 50: 4, 51: 3, 52: 5, 54: 2, 55: 2, 56: 3, 57: 1, 58: 1, 60: 2, 61: 1, 64: 1, 68: 1, 70: 1, 73: 1, 81: 1, 85: 1, 88: 1}\n"
     ]
    }
   ],
   "source": [
    "freq = dict()\n",
    "for ix in len_titles:\n",
    "    try:\n",
    "        freq[ix] +=1\n",
    "    except:\n",
    "        freq[ix] = 1\n",
    "print freq"
   ]
  },
  {
   "cell_type": "code",
   "execution_count": 27,
   "metadata": {
    "collapsed": true
   },
   "outputs": [],
   "source": [
    "freq = {}\n",
    "for ix in len_titles:\n",
    "    if ix in freq:\n",
    "        freq[ix]+=1\n",
    "    else:\n",
    "        freq[ix] = 1"
   ]
  },
  {
   "cell_type": "code",
   "execution_count": 32,
   "metadata": {
    "collapsed": false
   },
   "outputs": [
    {
     "name": "stdout",
     "output_type": "stream",
     "text": [
      "<type 'dict'>\n",
      "[3, 4, 5, 6, 7, 8, 9, 10, 11, 12, 13, 14, 15, 16, 17, 18, 19, 20, 21, 22, 23, 24, 25, 26, 27, 28, 29, 30, 31, 32, 33, 34, 35, 36, 37, 38, 39, 40, 41, 42, 43, 44, 45, 46, 47, 48, 49, 50, 51, 52, 54, 55, 56, 57, 58, 60, 61, 64, 68, 70, 73, 81, 85, 88]\n",
      "----------------------\n",
      "[5, 8, 35, 91, 137, 138, 226, 266, 297, 328, 328, 307, 275, 283, 264, 238, 219, 214, 177, 137, 139, 109, 85, 82, 73, 70, 51, 65, 36, 47, 43, 21, 31, 30, 20, 19, 24, 13, 14, 17, 13, 9, 9, 4, 7, 4, 4, 4, 3, 5, 2, 2, 3, 1, 1, 2, 1, 1, 1, 1, 1, 1, 1, 1]\n"
     ]
    }
   ],
   "source": [
    "print type(freq)\n",
    "print freq.keys()\n",
    "print \"----------------------\"\n",
    "print freq.values()"
   ]
  },
  {
   "cell_type": "code",
   "execution_count": 34,
   "metadata": {
    "collapsed": false
   },
   "outputs": [
    {
     "data": {
      "image/png": "[encoded data removed]",
      "text/plain": [
       "<matplotlib.figure.Figure at 0x7f6e482dad90>"
      ]
     },
     "metadata": {},
     "output_type": "display_data"
    }
   ],
   "source": [
    "plt.figure(0)\n",
    "plt.plot(freq.keys(),freq.values())\n",
    "plt.show()"
   ]
  },
  {
   "cell_type": "code",
   "execution_count": 43,
   "metadata": {
    "collapsed": false
   },
   "outputs": [
    {
     "name": "stdout",
     "output_type": "stream",
     "text": [
      "<type 'list'>\n"
     ]
    },
    {
     "data": {
      "text/plain": [
       "12"
      ]
     },
     "execution_count": 43,
     "metadata": {},
     "output_type": "execute_result"
    }
   ],
   "source": [
    "print type(freq.values())\n",
    "freq_values = np.array(freq.values())\n",
    "print np.argmax(freq_values)\n",
    "freq.keys()[np.argmax(freq_values)]"
   ]
  },
  {
   "cell_type": "code",
   "execution_count": null,
   "metadata": {
    "collapsed": true
   },
   "outputs": [],
   "source": []
  }
 ],
 "metadata": {
  "kernelspec": {
   "display_name": "Python 2",
   "language": "python",
   "name": "python2"
  },
  "language_info": {
   "codemirror_mode": {
    "name": "ipython",
    "version": 2
   },
   "file_extension": ".py",
   "mimetype": "text/x-python",
   "name": "python",
   "nbconvert_exporter": "python",
   "pygments_lexer": "ipython2",
   "version": "2.7.12"
  }
 },
 "nbformat": 4,
 "nbformat_minor": 2
}
