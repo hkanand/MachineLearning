{
 "cells": [
  {
   "cell_type": "code",
   "execution_count": 1,
   "metadata": {
    "collapsed": true
   },
   "outputs": [],
   "source": [
    "import cv2\n",
    "import matplotlib.pyplot as plt\n",
    "%matplotlib inline"
   ]
  },
  {
   "cell_type": "code",
   "execution_count": 7,
   "metadata": {
    "collapsed": false
   },
   "outputs": [
    {
     "name": "stdout",
     "output_type": "stream",
     "text": [
      "(2448, 3264, 3)\n",
      "(500, 500, 3)\n",
      "(500, 500)\n",
      "(500, 500)\n"
     ]
    }
   ],
   "source": [
    "ig = cv2.imread('../../PythonCamScanner/test_s1.jpg')\n",
    "print ig.shape\n",
    "\n",
    "ig = cv2.resize(ig, (500,500))\n",
    "print ig.shape\n",
    "\n",
    "ig = cv2.cvtColor(ig, cv2.COLOR_BGR2GRAY)\n",
    "print ig.shape\n",
    "blurred = cv2.GaussianBlur(ig, (5,5),0)\n",
    "print blurred.shape"
   ]
  },
  {
   "cell_type": "code",
   "execution_count": null,
   "metadata": {
    "collapsed": true
   },
   "outputs": [],
   "source": [
    "## Edge Detector\n",
    "cv2.Canny(blurred,)"
   ]
  }
 ],
 "metadata": {
  "kernelspec": {
   "display_name": "Python 2",
   "language": "python",
   "name": "python2"
  },
  "language_info": {
   "codemirror_mode": {
    "name": "ipython",
    "version": 2
   },
   "file_extension": ".py",
   "mimetype": "text/x-python",
   "name": "python",
   "nbconvert_exporter": "python",
   "pygments_lexer": "ipython2",
   "version": "2.7.12"
  }
 },
 "nbformat": 4,
 "nbformat_minor": 2
}
