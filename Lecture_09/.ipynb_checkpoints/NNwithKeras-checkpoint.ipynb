{
 "cells": [
  {
   "cell_type": "code",
   "execution_count": 17,
   "metadata": {
    "collapsed": true
   },
   "outputs": [],
   "source": [
    "import numpy as np\n",
    "import matplotlib.pyplot as plt\n",
    "%matplotlib inline\n",
    "from sklearn.datasets import make_circles\n",
    "import keras\n",
    "from keras.utils import np_utils\n",
    "from keras.layers import Dense, Activation\n",
    "from keras.models import Sequential"
   ]
  },
  {
   "cell_type": "code",
   "execution_count": 18,
   "metadata": {
    "collapsed": false
   },
   "outputs": [
    {
     "name": "stdout",
     "output_type": "stream",
     "text": [
      "(1000, 2) (1000,)\n"
     ]
    }
   ],
   "source": [
    "X, y = make_circles(n_samples=1000, factor=0.4)\n",
    "print X.shape, y.shape"
   ]
  },
  {
   "cell_type": "code",
   "execution_count": 19,
   "metadata": {
    "collapsed": false
   },
   "outputs": [
    {
     "data": {
      "image/png": "[encoded data removed]",
      "text/plain": [
       "<matplotlib.figure.Figure at 0x7f7bfd120410>"
      ]
     },
     "metadata": {},
     "output_type": "display_data"
    }
   ],
   "source": [
    "plt.scatter(X[:, 0], X[:, 1])\n",
    "plt.show()"
   ]
  },
  {
   "cell_type": "code",
   "execution_count": 21,
   "metadata": {
    "collapsed": false
   },
   "outputs": [
    {
     "data": {
      "image/png": "[encoded data removed]",
      "text/plain": [
       "<matplotlib.figure.Figure at 0x7f7bfc09b190>"
      ]
     },
     "metadata": {},
     "output_type": "display_data"
    }
   ],
   "source": [
    "for ix in range(X.shape[0]):\n",
    "    if y[ix] == 0:\n",
    "        plt.scatter(X[ix, 0], X[ix, 1], color='red')\n",
    "    else:\n",
    "        plt.scatter(X[ix, 0], X[ix, 1], color='green')\n",
    "\n",
    "plt.show()"
   ]
  },
  {
   "cell_type": "code",
   "execution_count": 25,
   "metadata": {
    "collapsed": false
   },
   "outputs": [
    {
     "name": "stdout",
     "output_type": "stream",
     "text": [
      "(1000, 2)\n",
      "[ 1.  0.] --- 0\n",
      "[ 1.  0.] --- 0\n",
      "[ 1.  0.] --- 0\n",
      "[ 1.  0.] --- 0\n",
      "[ 1.  0.] --- 0\n",
      "[ 0.  1.] --- 1\n",
      "[ 0.  1.] --- 1\n",
      "[ 1.  0.] --- 0\n",
      "[ 0.  1.] --- 1\n",
      "[ 0.  1.] --- 1\n"
     ]
    }
   ],
   "source": [
    "Y = np_utils.to_categorical(y)\n",
    "print Y.shape\n",
    "\n",
    "for ix in range(10):\n",
    "    print Y[ix], \"---\", y[ix]"
   ]
  },
  {
   "cell_type": "code",
   "execution_count": 27,
   "metadata": {
    "collapsed": false
   },
   "outputs": [
    {
     "name": "stdout",
     "output_type": "stream",
     "text": [
      "(800, 2)\n"
     ]
    }
   ],
   "source": [
    "split = int(0.8*X.shape[0])\n",
    "X_train = X[:split,:]\n",
    "X_test = X[split:,:]\n",
    "\n",
    "y_train = Y[:split]\n",
    "y_test = Y[split:]\n",
    "\n",
    "print X_train.shape"
   ]
  },
  {
   "cell_type": "code",
   "execution_count": 62,
   "metadata": {
    "collapsed": false
   },
   "outputs": [
    {
     "name": "stdout",
     "output_type": "stream",
     "text": [
      "____________________________________________________________________________________________________\n",
      "Layer (type)                     Output Shape          Param #     Connected to                     \n",
      "====================================================================================================\n",
      "dense_19 (Dense)                 (None, 5)             15          dense_input_8[0][0]              \n",
      "____________________________________________________________________________________________________\n",
      "activation_11 (Activation)       (None, 5)             0           dense_19[0][0]                   \n",
      "____________________________________________________________________________________________________\n",
      "dense_20 (Dense)                 (None, 2)             12          activation_11[0][0]              \n",
      "____________________________________________________________________________________________________\n",
      "activation_12 (Activation)       (None, 2)             0           dense_20[0][0]                   \n",
      "====================================================================================================\n",
      "Total params: 27\n",
      "Trainable params: 27\n",
      "Non-trainable params: 0\n",
      "____________________________________________________________________________________________________\n"
     ]
    }
   ],
   "source": [
    "## NN in keras\n",
    "model = Sequential()\n",
    "\n",
    "model.add(Dense(5,input_shape = (2,)))\n",
    "model.add(Activation('relu'))\n",
    "\n",
    "model.add(Dense(2))\n",
    "model.add(Activation('softmax'))\n",
    "\n",
    "model.summary()"
   ]
  },
  {
   "cell_type": "code",
   "execution_count": 54,
   "metadata": {
    "collapsed": false
   },
   "outputs": [
    {
     "name": "stdout",
     "output_type": "stream",
     "text": [
      "____________________________________________________________________________________________________\n",
      "Layer (type)                     Output Shape          Param #     Connected to                     \n",
      "====================================================================================================\n",
      "dense_9 (Dense)                  (None, 2)             6           dense_input_5[0][0]              \n",
      "____________________________________________________________________________________________________\n",
      "dense_10 (Dense)                 (None, 5)             15          dense_9[0][0]                    \n",
      "____________________________________________________________________________________________________\n",
      "dense_11 (Dense)                 (None, 5)             30          dense_10[0][0]                   \n",
      "____________________________________________________________________________________________________\n",
      "dense_12 (Dense)                 (None, 5)             30          dense_11[0][0]                   \n",
      "____________________________________________________________________________________________________\n",
      "dense_13 (Dense)                 (None, 5)             30          dense_12[0][0]                   \n",
      "____________________________________________________________________________________________________\n",
      "dense_14 (Dense)                 (None, 5)             30          dense_13[0][0]                   \n",
      "====================================================================================================\n",
      "Total params: 141\n",
      "Trainable params: 141\n",
      "Non-trainable params: 0\n",
      "____________________________________________________________________________________________________\n"
     ]
    }
   ],
   "source": [
    "model2 = Sequential()\n",
    "\n",
    "model2.add(Dense(2, input_shape=(2,)))\n",
    "for ix in range(5):\n",
    "    model2.add(Dense(5))\n",
    "model2.summary()"
   ]
  },
  {
   "cell_type": "code",
   "execution_count": 63,
   "metadata": {
    "collapsed": true
   },
   "outputs": [],
   "source": [
    "model.compile(optimizer='adagrad', loss='categorical_crossentropy', metrics=['accuracy'])"
   ]
  },
  {
   "cell_type": "code",
   "execution_count": 65,
   "metadata": {
    "collapsed": false
   },
   "outputs": [
    {
     "name": "stdout",
     "output_type": "stream",
     "text": [
      "Train on 800 samples, validate on 200 samples\n",
      "Epoch 1/100\n",
      "0s - loss: 0.6746 - acc: 0.4937 - val_loss: 0.6479 - val_acc: 0.5700\n",
      "Epoch 2/100\n",
      "0s - loss: 0.6624 - acc: 0.5562 - val_loss: 0.6400 - val_acc: 0.6100\n",
      "Epoch 3/100\n",
      "0s - loss: 0.6539 - acc: 0.5675 - val_loss: 0.6335 - val_acc: 0.6300\n",
      "Epoch 4/100\n",
      "0s - loss: 0.6469 - acc: 0.6225 - val_loss: 0.6279 - val_acc: 0.6850\n",
      "Epoch 5/100\n",
      "0s - loss: 0.6406 - acc: 0.6425 - val_loss: 0.6227 - val_acc: 0.6950\n",
      "Epoch 6/100\n",
      "0s - loss: 0.6349 - acc: 0.6562 - val_loss: 0.6178 - val_acc: 0.7000\n",
      "Epoch 7/100\n",
      "0s - loss: 0.6297 - acc: 0.6625 - val_loss: 0.6133 - val_acc: 0.7150\n",
      "Epoch 8/100\n",
      "0s - loss: 0.6246 - acc: 0.6750 - val_loss: 0.6089 - val_acc: 0.7200\n",
      "Epoch 9/100\n",
      "0s - loss: 0.6198 - acc: 0.6838 - val_loss: 0.6048 - val_acc: 0.7250\n",
      "Epoch 10/100\n",
      "0s - loss: 0.6152 - acc: 0.6962 - val_loss: 0.6008 - val_acc: 0.7400\n",
      "Epoch 11/100\n",
      "0s - loss: 0.6109 - acc: 0.7112 - val_loss: 0.5969 - val_acc: 0.7550\n",
      "Epoch 12/100\n",
      "0s - loss: 0.6066 - acc: 0.7238 - val_loss: 0.5931 - val_acc: 0.7650\n",
      "Epoch 13/100\n",
      "0s - loss: 0.6024 - acc: 0.7338 - val_loss: 0.5895 - val_acc: 0.7750\n",
      "Epoch 14/100\n",
      "0s - loss: 0.5984 - acc: 0.7463 - val_loss: 0.5859 - val_acc: 0.7850\n",
      "Epoch 15/100\n",
      "0s - loss: 0.5942 - acc: 0.7750 - val_loss: 0.5823 - val_acc: 0.7950\n",
      "Epoch 16/100\n",
      "0s - loss: 0.5901 - acc: 0.8050 - val_loss: 0.5785 - val_acc: 0.8000\n",
      "Epoch 17/100\n",
      "0s - loss: 0.5858 - acc: 0.8262 - val_loss: 0.5747 - val_acc: 0.8150\n",
      "Epoch 18/100\n",
      "0s - loss: 0.5817 - acc: 0.8400 - val_loss: 0.5711 - val_acc: 0.8500\n",
      "Epoch 19/100\n",
      "0s - loss: 0.5777 - acc: 0.8650 - val_loss: 0.5676 - val_acc: 0.8500\n",
      "Epoch 20/100\n",
      "0s - loss: 0.5739 - acc: 0.8663 - val_loss: 0.5643 - val_acc: 0.8550\n",
      "Epoch 21/100\n",
      "0s - loss: 0.5702 - acc: 0.8675 - val_loss: 0.5610 - val_acc: 0.8550\n",
      "Epoch 22/100\n",
      "0s - loss: 0.5667 - acc: 0.8712 - val_loss: 0.5578 - val_acc: 0.8550\n",
      "Epoch 23/100\n",
      "0s - loss: 0.5631 - acc: 0.8725 - val_loss: 0.5547 - val_acc: 0.8550\n",
      "Epoch 24/100\n",
      "0s - loss: 0.5597 - acc: 0.8750 - val_loss: 0.5517 - val_acc: 0.8550\n",
      "Epoch 25/100\n",
      "0s - loss: 0.5563 - acc: 0.8775 - val_loss: 0.5487 - val_acc: 0.8700\n",
      "Epoch 26/100\n",
      "0s - loss: 0.5531 - acc: 0.8963 - val_loss: 0.5458 - val_acc: 0.8950\n",
      "Epoch 27/100\n",
      "0s - loss: 0.5499 - acc: 0.9113 - val_loss: 0.5430 - val_acc: 0.9050\n",
      "Epoch 28/100\n",
      "0s - loss: 0.5468 - acc: 0.9163 - val_loss: 0.5402 - val_acc: 0.9100\n",
      "Epoch 29/100\n",
      "0s - loss: 0.5437 - acc: 0.9200 - val_loss: 0.5374 - val_acc: 0.9150\n",
      "Epoch 30/100\n",
      "0s - loss: 0.5406 - acc: 0.9225 - val_loss: 0.5347 - val_acc: 0.9200\n",
      "Epoch 31/100\n",
      "0s - loss: 0.5378 - acc: 0.9250 - val_loss: 0.5320 - val_acc: 0.9200\n",
      "Epoch 32/100\n",
      "0s - loss: 0.5348 - acc: 0.9288 - val_loss: 0.5294 - val_acc: 0.9200\n",
      "Epoch 33/100\n",
      "0s - loss: 0.5320 - acc: 0.9325 - val_loss: 0.5268 - val_acc: 0.9200\n",
      "Epoch 34/100\n",
      "0s - loss: 0.5292 - acc: 0.9337 - val_loss: 0.5242 - val_acc: 0.9200\n",
      "Epoch 35/100\n",
      "0s - loss: 0.5264 - acc: 0.9375 - val_loss: 0.5216 - val_acc: 0.9250\n",
      "Epoch 36/100\n",
      "0s - loss: 0.5237 - acc: 0.9387 - val_loss: 0.5191 - val_acc: 0.9250\n",
      "Epoch 37/100\n",
      "0s - loss: 0.5210 - acc: 0.9400 - val_loss: 0.5166 - val_acc: 0.9250\n",
      "Epoch 38/100\n",
      "0s - loss: 0.5184 - acc: 0.9438 - val_loss: 0.5142 - val_acc: 0.9250\n",
      "Epoch 39/100\n",
      "0s - loss: 0.5158 - acc: 0.9437 - val_loss: 0.5118 - val_acc: 0.9300\n",
      "Epoch 40/100\n",
      "0s - loss: 0.5132 - acc: 0.9550 - val_loss: 0.5094 - val_acc: 0.9400\n",
      "Epoch 41/100\n",
      "0s - loss: 0.5106 - acc: 0.9650 - val_loss: 0.5070 - val_acc: 0.9750\n",
      "Epoch 42/100\n",
      "0s - loss: 0.5081 - acc: 0.9713 - val_loss: 0.5046 - val_acc: 0.9900\n",
      "Epoch 43/100\n",
      "0s - loss: 0.5057 - acc: 0.9863 - val_loss: 0.5023 - val_acc: 0.9900\n",
      "Epoch 44/100\n",
      "0s - loss: 0.5031 - acc: 0.9938 - val_loss: 0.5000 - val_acc: 0.9950\n",
      "Epoch 45/100\n",
      "0s - loss: 0.5007 - acc: 1.0000 - val_loss: 0.4977 - val_acc: 1.0000\n",
      "Epoch 46/100\n",
      "0s - loss: 0.4983 - acc: 1.0000 - val_loss: 0.4955 - val_acc: 1.0000\n",
      "Epoch 47/100\n",
      "0s - loss: 0.4959 - acc: 1.0000 - val_loss: 0.4933 - val_acc: 1.0000\n",
      "Epoch 48/100\n",
      "0s - loss: 0.4935 - acc: 1.0000 - val_loss: 0.4910 - val_acc: 1.0000\n",
      "Epoch 49/100\n",
      "0s - loss: 0.4912 - acc: 1.0000 - val_loss: 0.4888 - val_acc: 1.0000\n",
      "Epoch 50/100\n",
      "0s - loss: 0.4888 - acc: 1.0000 - val_loss: 0.4866 - val_acc: 1.0000\n",
      "Epoch 51/100\n",
      "0s - loss: 0.4865 - acc: 1.0000 - val_loss: 0.4845 - val_acc: 1.0000\n",
      "Epoch 52/100\n",
      "0s - loss: 0.4843 - acc: 1.0000 - val_loss: 0.4823 - val_acc: 1.0000\n",
      "Epoch 53/100\n",
      "0s - loss: 0.4820 - acc: 1.0000 - val_loss: 0.4802 - val_acc: 1.0000\n",
      "Epoch 54/100\n",
      "0s - loss: 0.4797 - acc: 1.0000 - val_loss: 0.4781 - val_acc: 1.0000\n",
      "Epoch 55/100\n",
      "0s - loss: 0.4774 - acc: 1.0000 - val_loss: 0.4760 - val_acc: 1.0000\n",
      "Epoch 56/100\n",
      "0s - loss: 0.4753 - acc: 1.0000 - val_loss: 0.4739 - val_acc: 1.0000\n",
      "Epoch 57/100\n",
      "0s - loss: 0.4731 - acc: 1.0000 - val_loss: 0.4718 - val_acc: 1.0000\n",
      "Epoch 58/100\n",
      "0s - loss: 0.4709 - acc: 1.0000 - val_loss: 0.4698 - val_acc: 1.0000\n",
      "Epoch 59/100\n",
      "0s - loss: 0.4687 - acc: 1.0000 - val_loss: 0.4678 - val_acc: 1.0000\n",
      "Epoch 60/100\n",
      "0s - loss: 0.4666 - acc: 1.0000 - val_loss: 0.4657 - val_acc: 1.0000\n",
      "Epoch 61/100\n",
      "0s - loss: 0.4645 - acc: 1.0000 - val_loss: 0.4637 - val_acc: 1.0000\n",
      "Epoch 62/100\n",
      "0s - loss: 0.4623 - acc: 1.0000 - val_loss: 0.4617 - val_acc: 1.0000\n",
      "Epoch 63/100\n",
      "0s - loss: 0.4603 - acc: 1.0000 - val_loss: 0.4597 - val_acc: 1.0000\n",
      "Epoch 64/100\n",
      "0s - loss: 0.4581 - acc: 1.0000 - val_loss: 0.4578 - val_acc: 1.0000\n",
      "Epoch 65/100\n",
      "0s - loss: 0.4561 - acc: 1.0000 - val_loss: 0.4558 - val_acc: 1.0000\n",
      "Epoch 66/100\n",
      "0s - loss: 0.4541 - acc: 1.0000 - val_loss: 0.4539 - val_acc: 1.0000\n",
      "Epoch 67/100\n",
      "0s - loss: 0.4520 - acc: 1.0000 - val_loss: 0.4520 - val_acc: 1.0000\n",
      "Epoch 68/100\n",
      "0s - loss: 0.4500 - acc: 1.0000 - val_loss: 0.4501 - val_acc: 1.0000\n",
      "Epoch 69/100\n",
      "0s - loss: 0.4480 - acc: 1.0000 - val_loss: 0.4482 - val_acc: 1.0000\n",
      "Epoch 70/100\n",
      "0s - loss: 0.4460 - acc: 1.0000 - val_loss: 0.4463 - val_acc: 1.0000\n",
      "Epoch 71/100\n",
      "0s - loss: 0.4440 - acc: 1.0000 - val_loss: 0.4444 - val_acc: 1.0000\n",
      "Epoch 72/100\n",
      "0s - loss: 0.4421 - acc: 1.0000 - val_loss: 0.4425 - val_acc: 1.0000\n",
      "Epoch 73/100\n",
      "0s - loss: 0.4402 - acc: 1.0000 - val_loss: 0.4407 - val_acc: 1.0000\n",
      "Epoch 74/100\n",
      "0s - loss: 0.4383 - acc: 1.0000 - val_loss: 0.4388 - val_acc: 1.0000\n",
      "Epoch 75/100\n",
      "0s - loss: 0.4363 - acc: 1.0000 - val_loss: 0.4370 - val_acc: 1.0000\n",
      "Epoch 76/100\n",
      "0s - loss: 0.4344 - acc: 1.0000 - val_loss: 0.4352 - val_acc: 1.0000\n",
      "Epoch 77/100\n",
      "0s - loss: 0.4325 - acc: 1.0000 - val_loss: 0.4333 - val_acc: 1.0000\n",
      "Epoch 78/100\n",
      "0s - loss: 0.4307 - acc: 1.0000 - val_loss: 0.4316 - val_acc: 1.0000\n",
      "Epoch 79/100\n",
      "0s - loss: 0.4288 - acc: 1.0000 - val_loss: 0.4298 - val_acc: 1.0000\n",
      "Epoch 80/100\n",
      "0s - loss: 0.4269 - acc: 1.0000 - val_loss: 0.4280 - val_acc: 1.0000\n",
      "Epoch 81/100\n",
      "0s - loss: 0.4251 - acc: 1.0000 - val_loss: 0.4262 - val_acc: 1.0000\n",
      "Epoch 82/100\n",
      "0s - loss: 0.4233 - acc: 1.0000 - val_loss: 0.4244 - val_acc: 1.0000\n",
      "Epoch 83/100\n",
      "0s - loss: 0.4215 - acc: 1.0000 - val_loss: 0.4227 - val_acc: 1.0000\n",
      "Epoch 84/100\n",
      "0s - loss: 0.4197 - acc: 1.0000 - val_loss: 0.4210 - val_acc: 1.0000\n",
      "Epoch 85/100\n",
      "0s - loss: 0.4179 - acc: 1.0000 - val_loss: 0.4192 - val_acc: 1.0000\n",
      "Epoch 86/100\n",
      "0s - loss: 0.4162 - acc: 1.0000 - val_loss: 0.4175 - val_acc: 1.0000\n",
      "Epoch 87/100\n",
      "0s - loss: 0.4144 - acc: 1.0000 - val_loss: 0.4159 - val_acc: 1.0000\n",
      "Epoch 88/100\n",
      "0s - loss: 0.4127 - acc: 1.0000 - val_loss: 0.4142 - val_acc: 1.0000\n",
      "Epoch 89/100\n",
      "0s - loss: 0.4109 - acc: 1.0000 - val_loss: 0.4125 - val_acc: 1.0000\n",
      "Epoch 90/100\n",
      "0s - loss: 0.4092 - acc: 1.0000 - val_loss: 0.4108 - val_acc: 1.0000\n",
      "Epoch 91/100\n",
      "0s - loss: 0.4075 - acc: 1.0000 - val_loss: 0.4091 - val_acc: 1.0000\n",
      "Epoch 92/100\n",
      "0s - loss: 0.4058 - acc: 1.0000 - val_loss: 0.4075 - val_acc: 1.0000\n",
      "Epoch 93/100\n",
      "0s - loss: 0.4041 - acc: 1.0000 - val_loss: 0.4058 - val_acc: 1.0000\n",
      "Epoch 94/100\n",
      "0s - loss: 0.4024 - acc: 1.0000 - val_loss: 0.4042 - val_acc: 1.0000\n",
      "Epoch 95/100\n",
      "0s - loss: 0.4008 - acc: 1.0000 - val_loss: 0.4026 - val_acc: 1.0000\n",
      "Epoch 96/100\n",
      "0s - loss: 0.3991 - acc: 1.0000 - val_loss: 0.4010 - val_acc: 1.0000\n",
      "Epoch 97/100\n",
      "0s - loss: 0.3974 - acc: 1.0000 - val_loss: 0.3994 - val_acc: 1.0000\n",
      "Epoch 98/100\n",
      "0s - loss: 0.3958 - acc: 1.0000 - val_loss: 0.3978 - val_acc: 1.0000\n",
      "Epoch 99/100\n",
      "0s - loss: 0.3942 - acc: 1.0000 - val_loss: 0.3962 - val_acc: 1.0000\n",
      "Epoch 100/100\n",
      "0s - loss: 0.3926 - acc: 1.0000 - val_loss: 0.3947 - val_acc: 1.0000\n"
     ]
    }
   ],
   "source": [
    "hist = model.fit(X_train, y_train, nb_epoch=100,batch_size=100,verbose=2, shuffle=True ,validation_data=(X_test, y_test))"
   ]
  },
  {
   "cell_type": "code",
   "execution_count": 36,
   "metadata": {
    "collapsed": true
   },
   "outputs": [],
   "source": [
    "from sklearn.linear_model import LogisticRegression"
   ]
  },
  {
   "cell_type": "code",
   "execution_count": 37,
   "metadata": {
    "collapsed": true
   },
   "outputs": [],
   "source": [
    "lr = LogisticRegression()"
   ]
  },
  {
   "cell_type": "code",
   "execution_count": 38,
   "metadata": {
    "collapsed": false
   },
   "outputs": [
    {
     "data": {
      "text/plain": [
       "LogisticRegression(C=1.0, class_weight=None, dual=False, fit_intercept=True,\n",
       "          intercept_scaling=1, max_iter=100, multi_class='ovr', n_jobs=1,\n",
       "          penalty='l2', random_state=None, solver='liblinear', tol=0.0001,\n",
       "          verbose=0, warm_start=False)"
      ]
     },
     "execution_count": 38,
     "metadata": {},
     "output_type": "execute_result"
    }
   ],
   "source": [
    "lr.fit(X_train, y[:split])"
   ]
  },
  {
   "cell_type": "code",
   "execution_count": 39,
   "metadata": {
    "collapsed": false
   },
   "outputs": [
    {
     "data": {
      "text/plain": [
       "0.63500000000000001"
      ]
     },
     "execution_count": 39,
     "metadata": {},
     "output_type": "execute_result"
    }
   ],
   "source": [
    "lr.score(X_test, y[split:])"
   ]
  },
  {
   "cell_type": "code",
   "execution_count": 72,
   "metadata": {
    "collapsed": false
   },
   "outputs": [
    {
     "name": "stdout",
     "output_type": "stream",
     "text": [
      "<class 'keras.models.Sequential'>\n"
     ]
    },
    {
     "ename": "TypeError",
     "evalue": "'instancemethod' object has no attribute '__getitem__'",
     "output_type": "error",
     "traceback": [
      "\u001b[0;31m---------------------------------------------------------------------------\u001b[0m",
      "\u001b[0;31mTypeError\u001b[0m                                 Traceback (most recent call last)",
      "\u001b[0;32m<ipython-input-72-775b0bd1c2bb>\u001b[0m in \u001b[0;36m<module>\u001b[0;34m()\u001b[0m\n\u001b[1;32m      1\u001b[0m \u001b[0;32mprint\u001b[0m \u001b[0mtype\u001b[0m\u001b[0;34m(\u001b[0m\u001b[0mmodel\u001b[0m\u001b[0;34m)\u001b[0m\u001b[0;34m\u001b[0m\u001b[0m\n\u001b[0;32m----> 2\u001b[0;31m \u001b[0;32mprint\u001b[0m \u001b[0mtype\u001b[0m\u001b[0;34m(\u001b[0m\u001b[0mmodel\u001b[0m\u001b[0;34m.\u001b[0m\u001b[0mget_layer\u001b[0m\u001b[0;34m[\u001b[0m\u001b[0;34m'dense_20'\u001b[0m\u001b[0;34m]\u001b[0m\u001b[0;34m)\u001b[0m\u001b[0;34m\u001b[0m\u001b[0m\n\u001b[0m",
      "\u001b[0;31mTypeError\u001b[0m: 'instancemethod' object has no attribute '__getitem__'"
     ]
    }
   ],
   "source": [
    "print type(model)"
   ]
  },
  {
   "cell_type": "code",
   "execution_count": 67,
   "metadata": {
    "collapsed": false
   },
   "outputs": [
    {
     "name": "stdout",
     "output_type": "stream",
     "text": [
      "{'acc': [0.49374999478459358, 0.55624999850988388, 0.56749999150633812, 0.62250000238418579, 0.64249999821186066, 0.65625, 0.66249999403953552, 0.67499999701976776, 0.68375000357627869, 0.69624999910593033, 0.71124999970197678, 0.72375000268220901, 0.73375000059604645, 0.74625000357627869, 0.77500000596046448, 0.80499999225139618, 0.82624999433755875, 0.83999999612569809, 0.86499999463558197, 0.86625000089406967, 0.86749999970197678, 0.87124999612569809, 0.87249999493360519, 0.8750000074505806, 0.87749999761581421, 0.89625000208616257, 0.91125001013278961, 0.91625000536441803, 0.92000000923871994, 0.92250000685453415, 0.92500000447034836, 0.92875000089406967, 0.93250001221895218, 0.93374999612569809, 0.93750001490116119, 0.9387499988079071, 0.9400000125169754, 0.94375000149011612, 0.94374999403953552, 0.95500000566244125, 0.96499999612569809, 0.97125000506639481, 0.98625001311302185, 0.99375000596046448, 1.0, 1.0, 1.0, 1.0, 1.0, 1.0, 1.0, 1.0, 1.0, 1.0, 1.0, 1.0, 1.0, 1.0, 1.0, 1.0, 1.0, 1.0, 1.0, 1.0, 1.0, 1.0, 1.0, 1.0, 1.0, 1.0, 1.0, 1.0, 1.0, 1.0, 1.0, 1.0, 1.0, 1.0, 1.0, 1.0, 1.0, 1.0, 1.0, 1.0, 1.0, 1.0, 1.0, 1.0, 1.0, 1.0, 1.0, 1.0, 1.0, 1.0, 1.0, 1.0, 1.0, 1.0, 1.0, 1.0], 'loss': [0.67460421472787857, 0.66240929067134857, 0.6539476290345192, 0.64691001176834106, 0.64061578363180161, 0.63491262495517731, 0.62966678291559219, 0.62460482865571976, 0.61980827897787094, 0.61524631828069687, 0.61089130491018295, 0.60659301280975342, 0.60239485651254654, 0.59836781024932861, 0.59424735605716705, 0.59010192006826401, 0.58575405180454254, 0.58167540282011032, 0.57772835344076157, 0.57391777634620667, 0.57023193687200546, 0.56665464490652084, 0.56311086565256119, 0.55968166887760162, 0.55633096396923065, 0.55313020944595337, 0.54986660927534103, 0.54677159339189529, 0.54369597136974335, 0.54064126312732697, 0.53776401281356812, 0.53480419516563416, 0.53198332339525223, 0.52917766571044922, 0.5264110341668129, 0.5236947238445282, 0.52100764214992523, 0.51837879419326782, 0.51581000536680222, 0.51323681324720383, 0.51060805097222328, 0.50810844823718071, 0.50565887987613678, 0.50311272963881493, 0.50070315971970558, 0.49828090518712997, 0.49589487910270691, 0.4935029074549675, 0.49118859693408012, 0.4888094887137413, 0.48648566007614136, 0.48425307869911194, 0.48195799067616463, 0.4796893335878849, 0.4774487130343914, 0.47528005763888359, 0.47307190671563148, 0.47088032588362694, 0.46874728798866272, 0.4665948711335659, 0.4644535668194294, 0.46233223006129265, 0.46027059480547905, 0.45814194530248642, 0.45611749961972237, 0.45406339317560196, 0.45204067230224609, 0.45003174245357513, 0.44801982119679451, 0.44604799523949623, 0.44403806701302528, 0.44207935407757759, 0.44016769528388977, 0.43826866149902344, 0.43633689358830452, 0.43441576510667801, 0.43254824727773666, 0.43066508695483208, 0.42880161106586456, 0.42694703117012978, 0.42512291297316551, 0.42331546545028687, 0.42152024060487747, 0.41971805319190025, 0.41791628673672676, 0.41616101935505867, 0.41439356654882431, 0.41265057027339935, 0.41089541837573051, 0.40921024978160858, 0.40746360644698143, 0.40577271580696106, 0.40407336130738258, 0.40239699184894562, 0.40076006576418877, 0.39908892661333084, 0.39742825552821159, 0.39580079540610313, 0.39417398720979691, 0.39255883172154427], 'val_acc': [0.56999999284744263, 0.60999998450279236, 0.62999999523162842, 0.68500000238418579, 0.69499999284744263, 0.69999998807907104, 0.71500000357627869, 0.7199999988079071, 0.72499999403953552, 0.73999997973442078, 0.75500002503395081, 0.76500001549720764, 0.77500000596046448, 0.78499999642372131, 0.79499998688697815, 0.79999998211860657, 0.81499999761581421, 0.84999999403953552, 0.84999999403953552, 0.85500001907348633, 0.85500001907348633, 0.85500001907348633, 0.85500001907348633, 0.85500001907348633, 0.87000000476837158, 0.89499998092651367, 0.9050000011920929, 0.9100000262260437, 0.91500002145767212, 0.92000001668930054, 0.92000001668930054, 0.92000001668930054, 0.92000001668930054, 0.92000001668930054, 0.92500001192092896, 0.92500001192092896, 0.92500001192092896, 0.92500001192092896, 0.93000000715255737, 0.93999999761581421, 0.97500002384185791, 0.99000000953674316, 0.99000000953674316, 0.99500000476837158, 1.0, 1.0, 1.0, 1.0, 1.0, 1.0, 1.0, 1.0, 1.0, 1.0, 1.0, 1.0, 1.0, 1.0, 1.0, 1.0, 1.0, 1.0, 1.0, 1.0, 1.0, 1.0, 1.0, 1.0, 1.0, 1.0, 1.0, 1.0, 1.0, 1.0, 1.0, 1.0, 1.0, 1.0, 1.0, 1.0, 1.0, 1.0, 1.0, 1.0, 1.0, 1.0, 1.0, 1.0, 1.0, 1.0, 1.0, 1.0, 1.0, 1.0, 1.0, 1.0, 1.0, 1.0, 1.0, 1.0], 'val_loss': [0.64793315529823303, 0.64001542329788208, 0.63354465365409851, 0.62785810232162476, 0.62274640798568726, 0.61784479022026062, 0.61331671476364136, 0.60893237590789795, 0.60479718446731567, 0.60083380341529846, 0.59690934419631958, 0.59314835071563721, 0.58948075771331787, 0.58592548966407776, 0.58233505487442017, 0.57850751280784607, 0.574737548828125, 0.57112795114517212, 0.56764650344848633, 0.56425291299819946, 0.56099176406860352, 0.55782675743103027, 0.55473202466964722, 0.55169788002967834, 0.54873836040496826, 0.54583963751792908, 0.54300594329833984, 0.5401645302772522, 0.53740042448043823, 0.5346817672252655, 0.53202033042907715, 0.5293620228767395, 0.52675944566726685, 0.52417367696762085, 0.52164852619171143, 0.51912212371826172, 0.51663319766521454, 0.51418788731098175, 0.51175111532211304, 0.50936375558376312, 0.50698146224021912, 0.50461418926715851, 0.50229625403881073, 0.49999600648880005, 0.49774956703186035, 0.49549657106399536, 0.49326153099536896, 0.49103334546089172, 0.48882921040058136, 0.48664465546607971, 0.48448653519153595, 0.48234511911869049, 0.48019474744796753, 0.47806771099567413, 0.4759671688079834, 0.47389496862888336, 0.47181721031665802, 0.46977473795413971, 0.46775704622268677, 0.46573425829410553, 0.46372430026531219, 0.46171760559082031, 0.45974428951740265, 0.45777420699596405, 0.45582380890846252, 0.45390352606773376, 0.451992467045784, 0.45007595419883728, 0.44817550480365753, 0.44628851115703583, 0.44440315663814545, 0.44251434504985809, 0.44065064191818237, 0.43882395327091217, 0.43698927760124207, 0.43517149984836578, 0.43334396183490753, 0.43156322836875916, 0.4297669380903244, 0.42797662317752838, 0.42620447278022766, 0.42443826794624329, 0.42269141972064972, 0.4209531843662262, 0.41922649741172791, 0.41753649711608887, 0.41585452854633331, 0.41415798664093018, 0.41247247159481049, 0.41079036891460419, 0.40913589298725128, 0.40748834609985352, 0.40584903955459595, 0.40420885384082794, 0.40259829163551331, 0.40100041031837463, 0.39939655363559723, 0.39781630039215088, 0.39623996615409851, 0.39467056095600128]}\n"
     ]
    }
   ],
   "source": [
    "data = hist.history\n",
    "print data"
   ]
  },
  {
   "cell_type": "code",
   "execution_count": 69,
   "metadata": {
    "collapsed": false
   },
   "outputs": [
    {
     "data": {
      "image/png": "[encoded data removed]",
      "text/plain": [
       "<matplotlib.figure.Figure at 0x7f7bfd110190>"
      ]
     },
     "metadata": {},
     "output_type": "display_data"
    }
   ],
   "source": [
    "plt.plot(data['loss'])\n",
    "plt.plot(data['val_loss'])\n",
    "plt.show()"
   ]
  },
  {
   "cell_type": "code",
   "execution_count": null,
   "metadata": {
    "collapsed": true
   },
   "outputs": [],
   "source": []
  }
 ],
 "metadata": {
  "kernelspec": {
   "display_name": "Python 2",
   "language": "python",
   "name": "python2"
  },
  "language_info": {
   "codemirror_mode": {
    "name": "ipython",
    "version": 2
   },
   "file_extension": ".py",
   "mimetype": "text/x-python",
   "name": "python",
   "nbconvert_exporter": "python",
   "pygments_lexer": "ipython2",
   "version": "2.7.12"
  }
 },
 "nbformat": 4,
 "nbformat_minor": 2
}
