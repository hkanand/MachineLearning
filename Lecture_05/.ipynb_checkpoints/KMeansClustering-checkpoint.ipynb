{
 "cells": [
  {
   "cell_type": "code",
   "execution_count": 1,
   "metadata": {
    "collapsed": true
   },
   "outputs": [],
   "source": [
    "import numpy as np\n",
    "import matplotlib.pyplot as plt\n",
    "%matplotlib inline"
   ]
  },
  {
   "cell_type": "code",
   "execution_count": 5,
   "metadata": {
    "collapsed": false
   },
   "outputs": [
    {
     "name": "stdout",
     "output_type": "stream",
     "text": [
      "(500, 2) (500, 2)\n"
     ]
    }
   ],
   "source": [
    "## Define a dataset\n",
    "mean_01 = np.array([1.0, 0.5])\n",
    "cov_01 = np.array([[1.0,0.1],[0.1,1.2]])\n",
    "\n",
    "mean_02 = np.array([5.3,6.5])\n",
    "cov_02 = np.array([[1.0,0.1],[0.1,1.2]])\n",
    "\n",
    "dist_01 = np.random.multivariate_normal(mean_01, cov_01, 500)\n",
    "dist_02 = np.random.multivariate_normal(mean_02, cov_02, 500)\n",
    "\n",
    "print dist_01.shape, dist_02.shape"
   ]
  },
  {
   "cell_type": "code",
   "execution_count": 6,
   "metadata": {
    "collapsed": false
   },
   "outputs": [
    {
     "data": {
      "image/png": "[encoded data removed]",
      "text/plain": [
       "<matplotlib.figure.Figure at 0x7fa4c75f4110>"
      ]
     },
     "metadata": {},
     "output_type": "display_data"
    }
   ],
   "source": [
    "plt.scatter(dist_01[:,0],dist_01[:,1], color='red')\n",
    "plt.scatter(dist_02[:,0],dist_02[:,1], color='blue')\n",
    "\n",
    "plt.show()"
   ]
  },
  {
   "cell_type": "code",
   "execution_count": 12,
   "metadata": {
    "collapsed": false
   },
   "outputs": [
    {
     "name": "stdout",
     "output_type": "stream",
     "text": [
      "(1000, 2)\n",
      "-3.27913567143 10.3217378093\n"
     ]
    }
   ],
   "source": [
    "## Input data :- (dist_01.shape[0]+dist_02.shape[0], #num_features)\n",
    "data = np.concatenate((dist_01, dist_02))\n",
    "print data.shape\n",
    "\n",
    "print data.min(), data.max()"
   ]
  },
  {
   "cell_type": "code",
   "execution_count": 37,
   "metadata": {
    "collapsed": true
   },
   "outputs": [],
   "source": [
    "## KMeans Clustering -> Parameter Definition\n",
    "K = 4 ## Number of clusters\n",
    "clusters = {}\n",
    "for cx in range(K):\n",
    "    params = {\n",
    "        'centroid': np.random.uniform(low=data.min(), high=data.max(),size=(data.shape[1])),\n",
    "        'history': [], # history of the centroid locations\n",
    "        'points' : [], # points in the cluster -> for centroid recalculation\n",
    "    }\n",
    "    clusters[cx] = params\n",
    "\n",
    "colors = ['yellow','red','cyan','green']"
   ]
  },
  {
   "cell_type": "code",
   "execution_count": 38,
   "metadata": {
    "collapsed": false
   },
   "outputs": [
    {
     "name": "stdout",
     "output_type": "stream",
     "text": [
      "0\n"
     ]
    }
   ],
   "source": [
    "print len(clusters[0]['history'])"
   ]
  },
  {
   "cell_type": "code",
   "execution_count": 33,
   "metadata": {
    "collapsed": true
   },
   "outputs": [],
   "source": [
    "clusters[0]['centroid'] = np.array([15,2])"
   ]
  },
  {
   "cell_type": "code",
   "execution_count": 16,
   "metadata": {
    "collapsed": false
   },
   "outputs": [
    {
     "data": {
      "text/plain": [
       "1.4142135623730951"
      ]
     },
     "execution_count": 16,
     "metadata": {},
     "output_type": "execute_result"
    }
   ],
   "source": [
    "## Defining a Distance function\n",
    "def distance(p1, p2):\n",
    "    '''Euclidian Distance'''\n",
    "    return np.sqrt(((p1-p2)**2).sum())\n",
    "\n",
    "distance(np.array([0.0,0.0]),np.array([1.0,1.0]))"
   ]
  },
  {
   "cell_type": "code",
   "execution_count": 36,
   "metadata": {
    "collapsed": false
   },
   "outputs": [
    {
     "data": {
      "image/png": "[encoded data removed]",
      "text/plain": [
       "<matplotlib.figure.Figure at 0x7fa4c5c0a110>"
      ]
     },
     "metadata": {},
     "output_type": "display_data"
    }
   ],
   "source": [
    "## Execution logic\n",
    "n_steps = 3\n",
    "for ix in range(n_steps):\n",
    "    plt.figure(ix)\n",
    "    # Step 1. -> Assign points to clusters\n",
    "    for ix in range(data.shape[0]):\n",
    "        d = []\n",
    "        for cx in range(K):\n",
    "            dist = distance(data[ix], clusters[cx]['centroid'])\n",
    "            d.append(dist)\n",
    "\n",
    "        d = np.asarray(d)\n",
    "        c_id = np.argmin(d) ## Cluster ID for the particular point\n",
    "\n",
    "        plt.scatter(data[ix,0], data[ix, 1], color=colors[c_id])\n",
    "\n",
    "        clusters[c_id]['points'].append(data[ix])\n",
    "\n",
    "    for cx in range(K):\n",
    "        plt.scatter(clusters[cx]['centroid'][0], clusters[cx]['centroid'][1], color='black')\n",
    "\n",
    "    # Step 2. -> Update the centroid\n",
    "    for cx in range(K):\n",
    "        clusters[cx]['history'].append(clusters[cx]['centroid'])\n",
    "\n",
    "        if len(clusters[cx]['points']) !=0:\n",
    "            new_val = np.array(clusters[cx]['points']).mean(axis=0)\n",
    "\n",
    "            clusters[cx]['centroid'] = new_val # updated centroid location\n",
    "\n",
    "\n",
    "        ## Step 3. Remove points from the cluster\n",
    "        clusters[cx]['points'] = []   \n",
    "\n",
    "    plt.show()"
   ]
  },
  {
   "cell_type": "code",
   "execution_count": 32,
   "metadata": {
    "collapsed": false
   },
   "outputs": [
    {
     "data": {
      "image/png": "[encoded data removed]",
      "text/plain": [
       "<matplotlib.figure.Figure at 0x7fa4c74c1690>"
      ]
     },
     "metadata": {},
     "output_type": "display_data"
    }
   ],
   "source": [
    "plt.figure(0)\n",
    "for cx in range(K):\n",
    "    hist_d = []\n",
    "    for pt in range(1, len(clusters[cx]['history'])):\n",
    "        hist_d.append(distance(clusters[cx]['history'][pt], clusters[cx]['history'][pt-1]))\n",
    "    plt.plot(hist_d, color=colors[cx])\n",
    "plt.show()"
   ]
  },
  {
   "cell_type": "code",
   "execution_count": 23,
   "metadata": {
    "collapsed": false
   },
   "outputs": [
    {
     "name": "stdout",
     "output_type": "stream",
     "text": [
      "0.5\n",
      "[ 0.  1.]\n",
      "[ 0.5  0.5  0.5  0.5  0.5  0.5  0.5  0.5  0.5  0.5]\n"
     ]
    }
   ],
   "source": [
    "test_matrix = np.ones((10,2))\n",
    "test_matrix[:,0] = 0.0\n",
    "print test_matrix.mean()\n",
    "print test_matrix.mean(axis=0)\n",
    "print test_matrix.mean(axis=1)"
   ]
  },
  {
   "cell_type": "code",
   "execution_count": null,
   "metadata": {
    "collapsed": true
   },
   "outputs": [],
   "source": []
  },
  {
   "cell_type": "code",
   "execution_count": null,
   "metadata": {
    "collapsed": true
   },
   "outputs": [],
   "source": []
  },
  {
   "cell_type": "code",
   "execution_count": null,
   "metadata": {
    "collapsed": true
   },
   "outputs": [],
   "source": []
  },
  {
   "cell_type": "code",
   "execution_count": 11,
   "metadata": {
    "collapsed": false
   },
   "outputs": [
    {
     "name": "stdout",
     "output_type": "stream",
     "text": [
      "(1000, 2)\n",
      "(500, 4)\n"
     ]
    }
   ],
   "source": [
    "temp = np.vstack((dist_01, dist_02))\n",
    "print temp.shape\n",
    "\n",
    "random_temp = np.hstack((dist_01, dist_02))\n",
    "print random_temp.shape"
   ]
  },
  {
   "cell_type": "code",
   "execution_count": null,
   "metadata": {
    "collapsed": true
   },
   "outputs": [],
   "source": []
  }
 ],
 "metadata": {
  "kernelspec": {
   "display_name": "Python 2",
   "language": "python",
   "name": "python2"
  },
  "language_info": {
   "codemirror_mode": {
    "name": "ipython",
    "version": 2
   },
   "file_extension": ".py",
   "mimetype": "text/x-python",
   "name": "python",
   "nbconvert_exporter": "python",
   "pygments_lexer": "ipython2",
   "version": "2.7.12"
  }
 },
 "nbformat": 4,
 "nbformat_minor": 2
}
