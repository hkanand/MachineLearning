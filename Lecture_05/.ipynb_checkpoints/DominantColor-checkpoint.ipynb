{
 "cells": [
  {
   "cell_type": "code",
   "execution_count": 1,
   "metadata": {
    "collapsed": true
   },
   "outputs": [],
   "source": [
    "import numpy as np\n",
    "import matplotlib.pyplot as plt\n",
    "%matplotlib inline\n",
    "import cv2\n",
    "from sklearn.cluster import KMeans"
   ]
  },
  {
   "cell_type": "code",
   "execution_count": 16,
   "metadata": {
    "collapsed": false
   },
   "outputs": [
    {
     "name": "stdout",
     "output_type": "stream",
     "text": [
      "(100, 160, 3)\n",
      "(16000, 3)\n"
     ]
    }
   ],
   "source": [
    "im = cv2.imread('./im.jpg')\n",
    "im = cv2.cvtColor(im, cv2.COLOR_BGR2RGB)\n",
    "\n",
    "out_r = 100\n",
    "im = cv2.resize(im, (int(out_r*float(c)/r), out_r))\n",
    "print im.shape\n",
    "\n",
    "pixels = im.reshape((-1, 3))\n",
    "print pixels.shape"
   ]
  },
  {
   "cell_type": "code",
   "execution_count": 17,
   "metadata": {
    "collapsed": false
   },
   "outputs": [
    {
     "data": {
      "text/plain": [
       "KMeans(algorithm='auto', copy_x=True, init='k-means++', max_iter=300,\n",
       "    n_clusters=8, n_init=10, n_jobs=1, precompute_distances='auto',\n",
       "    random_state=None, tol=0.0001, verbose=0)"
      ]
     },
     "execution_count": 17,
     "metadata": {},
     "output_type": "execute_result"
    }
   ],
   "source": [
    "km = KMeans(n_clusters=8)\n",
    "km.fit(pixels)"
   ]
  },
  {
   "cell_type": "code",
   "execution_count": 23,
   "metadata": {
    "collapsed": false
   },
   "outputs": [
    {
     "name": "stdout",
     "output_type": "stream",
     "text": [
      "uint8\n",
      "[[ 27  46  89]\n",
      " [195 166 183]\n",
      " [114 118 133]\n",
      " [246 218 180]\n",
      " [ 64  84 118]\n",
      " [140  85  90]\n",
      " [224 179 138]\n",
      " [173 140 133]]\n",
      "(8, 3)\n"
     ]
    }
   ],
   "source": [
    "centr_colors = np.array(km.cluster_centers_, dtype='uint8')\n",
    "print centr_colors.dtype\n",
    "print centr_colors\n",
    "\n",
    "print centr_colors.shape"
   ]
  },
  {
   "cell_type": "code",
   "execution_count": 29,
   "metadata": {
    "collapsed": false
   },
   "outputs": [
    {
     "name": "stdout",
     "output_type": "stream",
     "text": [
      "[ 1838.  1217.  2448.  2379.  2275.  1332.  1988.  2523.]\n",
      "16000.0\n",
      "[ 0.114875    0.0760625   0.153       0.1486875   0.14218751  0.08325\n",
      "  0.12425     0.1576875 ]\n"
     ]
    }
   ],
   "source": [
    "freq = np.array(np.unique(km.labels_, return_counts=True)[1], dtype='float32')\n",
    "print freq\n",
    "print freq.sum()\n",
    "freq = freq/pixels.shape[0]\n",
    "print freq"
   ]
  },
  {
   "cell_type": "code",
   "execution_count": 39,
   "metadata": {
    "collapsed": false
   },
   "outputs": [
    {
     "name": "stdout",
     "output_type": "stream",
     "text": [
      "[173 140 133]\n"
     ]
    }
   ],
   "source": [
    "dom = [[freq[ix], centr_colors[ix]] for ix in range(km.n_clusters)]\n",
    "\n",
    "DOM = sorted(dom, key=lambda z:z[0], reverse=True)\n",
    "#DOM = np.array(DOM)\n",
    "print DOM[0][1]\n",
    "#print DOM.shape"
   ]
  },
  {
   "cell_type": "code",
   "execution_count": 31,
   "metadata": {
    "collapsed": false
   },
   "outputs": [
    {
     "name": "stdout",
     "output_type": "stream",
     "text": [
      "[0.1576875, array([173, 140, 133], dtype=uint8)]\n",
      "----------\n",
      "[0.153, array([114, 118, 133], dtype=uint8)]\n",
      "----------\n",
      "[0.1486875, array([246, 218, 180], dtype=uint8)]\n",
      "----------\n",
      "[0.14218751, array([ 64,  84, 118], dtype=uint8)]\n",
      "----------\n",
      "[0.12425, array([224, 179, 138], dtype=uint8)]\n",
      "----------\n",
      "[0.114875, array([27, 46, 89], dtype=uint8)]\n",
      "----------\n",
      "[0.083250001, array([140,  85,  90], dtype=uint8)]\n",
      "----------\n",
      "[0.0760625, array([195, 166, 183], dtype=uint8)]\n",
      "----------\n"
     ]
    }
   ],
   "source": [
    "for ix in DOM:\n",
    "    print ix\n",
    "    print \"----------\""
   ]
  },
  {
   "cell_type": "code",
   "execution_count": 41,
   "metadata": {
    "collapsed": false
   },
   "outputs": [
    {
     "data": {
      "image/png": "[encoded data removed]",
      "text/plain": [
       "<matplotlib.figure.Figure at 0x7f339a5d5590>"
      ]
     },
     "metadata": {},
     "output_type": "display_data"
    }
   ],
   "source": [
    "patch = np.ones((50, 500, 3))\n",
    "start = 0\n",
    "for ix in range(km.n_clusters):\n",
    "    width = int(DOM[ix][0]*patch.shape[1])\n",
    "    end = start+width\n",
    "    patch[:,start:end,:] = 255 - DOM[ix][1]\n",
    "    start = end\n",
    "    plt.axis(\"off\")\n",
    "    plt.imshow(patch)\n",
    "plt.show()"
   ]
  },
  {
   "cell_type": "code",
   "execution_count": null,
   "metadata": {
    "collapsed": true
   },
   "outputs": [],
   "source": [
    "patch = np.ones((50, 500, 3))\n",
    "start = 0\n",
    "for ix in range(km.n_clusters):\n",
    "    width = int(DOM[ix][0]*patch.shape[1])\n",
    "    end = start+width\n",
    "    patch[:,start:end,:] = DOM[ix][1]\n",
    "    start = end\n",
    "    plt.axis(\"off\")\n",
    "    plt.imshow(patch)\n",
    "plt.show()"
   ]
  }
 ],
 "metadata": {
  "kernelspec": {
   "display_name": "Python 2",
   "language": "python",
   "name": "python2"
  },
  "language_info": {
   "codemirror_mode": {
    "name": "ipython",
    "version": 2
   },
   "file_extension": ".py",
   "mimetype": "text/x-python",
   "name": "python",
   "nbconvert_exporter": "python",
   "pygments_lexer": "ipython2",
   "version": "2.7.12"
  }
 },
 "nbformat": 4,
 "nbformat_minor": 2
}
